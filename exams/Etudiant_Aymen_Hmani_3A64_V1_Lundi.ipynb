{
 "cells": [
  {
   "cell_type": "markdown",
   "metadata": {
    "id": "aFORHZDls9fd"
   },
   "source": [
    "#  <span style=\"color:red\">Consignes pour l'examen </span>"
   ]
  },
  {
   "cell_type": "markdown",
   "metadata": {
    "id": "zjNQJoYWtFiY"
   },
   "source": [
    "**-1 Veuillez enregistrer le code source selon le format suivant : \"nom_prénom_classe\"**\n",
    "\n",
    "**-2 Seuls les documents fournis par votre enseignant sont autorisés.**\n",
    "\n",
    "**-3 Internet n'est pas autorisé. Veuillez activer le mode avion et désactiver le Wifi.**\n",
    "\n",
    "**-4 Toute utilisation d'Internet (sur PC ou smartphone) sera considérée comme une tentative de fraude.**\n",
    "\n",
    "**-5 Lorsqu'un étudiant quitte la salle de classe, il n'est plus autorisé à récupérer le code source du travail effectué.**\n",
    "\n",
    "**-6 Veuillez vous assurer de vérifier soigneusement votre code avant la récupération. Chaque étudiant est responsable du code qu'il soumet, et aucune réclamation ne sera acceptée une fois que vous aurez quitté la salle.**"
   ]
  },
  {
   "cell_type": "markdown",
   "metadata": {
    "id": "DaL5rvIttQYy"
   },
   "source": [
    "# <span style=\"color:blue\">Le jeu de données </span>"
   ]
  },
  {
   "cell_type": "markdown",
   "metadata": {
    "id": "-M7LHMRntSG0"
   },
   "source": [
    "Le dataset **`SALARY.csv`** contient des données relatives à la relation entre les années d'expérience professionnelle et le salaire d'un individu. Ce type de dataset est couramment utilisé pour des analyses de régression simple, où l'objectif est de prédire une variable (ici, le salaire) en fonction d'une autre variable (ici, les années d'expérience).\n",
    "\n",
    "#### Description des Colonnes :\n",
    "1. **`YearsExperience`** : Cette colonne représente le nombre d'années d'expérience professionnelle d'une personne. Elle est généralement mesurée en années et constitue la variable indépendante (ou explicative) dans les modèles de régression.\n",
    "2. **`Salary`** : Cette colonne représente le salaire annuel d'une personne, généralement exprimé en dollars (ou une autre monnaie selon le dataset). C'est la variable dépendante (ou à prédire) dans un modèle de régression.\n"
   ]
  },
  {
   "cell_type": "markdown",
   "metadata": {
    "id": "mLzNjq6tujtM"
   },
   "source": [
    "#  1. Importer les bibliothèques requises <span style=\"color:green\">(1 pt) </span>"
   ]
  },
  {
   "cell_type": "code",
   "execution_count": 1,
   "metadata": {
    "id": "y8JxVqOzsuw4"
   },
   "outputs": [],
   "source": [
    "# Importer les bibliothèques requis\n",
    "import pandas as pd\n",
    "import numpy as np\n",
    "import matplotlib.pyplot as plt\n",
    "from sklearn.model_selection import train_test_split\n",
    "from sklearn.linear_model import LinearRegression\n",
    "from sklearn.metrics import *"
   ]
  },
  {
   "cell_type": "markdown",
   "metadata": {
    "id": "mAHBPYXBvCWl"
   },
   "source": [
    "# 2. Charger le jeu de données: 'SALARY.csv' <span style=\"color:green\">(0.5 pt) </span>"
   ]
  },
  {
   "cell_type": "code",
   "execution_count": 2,
   "metadata": {
    "id": "uH_mBSmiunNR"
   },
   "outputs": [],
   "source": [
    "# Charger le dataset\n",
    "\n",
    "data = pd.read_csv('SALARY.csv')"
   ]
  },
  {
   "cell_type": "markdown",
   "metadata": {
    "id": "VrbCGVy_wNJM"
   },
   "source": [
    "# 3. Afficher les 5 premières lignes du jeu de données <span style=\"color:green\">(0.5 pt) </span>"
   ]
  },
  {
   "cell_type": "code",
   "execution_count": 3,
   "metadata": {
    "colab": {
     "base_uri": "https://localhost:8080/",
     "height": 226
    },
    "id": "-IhltuwqviBM",
    "outputId": "d2002175-cf89-4420-90cd-fc44a06247ad"
   },
   "outputs": [
    {
     "name": "stdout",
     "output_type": "stream",
     "text": [
      "   YearsExperience   Salary\n",
      "0              1.1  39343.0\n",
      "1              1.3  46205.0\n",
      "2              1.5  37731.0\n",
      "3              NaN  43525.0\n",
      "4              2.2  39891.0\n"
     ]
    }
   ],
   "source": [
    "# Afficher les 5 premier lignes\n",
    "print(data.head())"
   ]
  },
  {
   "cell_type": "markdown",
   "metadata": {
    "id": "3UnAOCNowH69"
   },
   "source": [
    "# 4. Afficher la dimension du jeu de données <span style=\"color:green\">(0.5 pt) </span>"
   ]
  },
  {
   "cell_type": "code",
   "execution_count": 4,
   "metadata": {},
   "outputs": [
    {
     "name": "stdout",
     "output_type": "stream",
     "text": [
      "(33, 2)\n"
     ]
    }
   ],
   "source": [
    "# Afficher la dimension du jeu de données\n",
    "print(data.shape)"
   ]
  },
  {
   "cell_type": "markdown",
   "metadata": {
    "id": "oiDTY8Mdwlv_"
   },
   "source": [
    "# 5. Afficher les informations sur le jeu de données <span style=\"color:green\">(0.5 pt) </span>"
   ]
  },
  {
   "cell_type": "code",
   "execution_count": 5,
   "metadata": {
    "colab": {
     "base_uri": "https://localhost:8080/"
    },
    "id": "dPGy95fVwm9k",
    "outputId": "fbfe911a-33c0-4806-ca4e-7247afc6a2e7"
   },
   "outputs": [
    {
     "name": "stdout",
     "output_type": "stream",
     "text": [
      "<class 'pandas.core.frame.DataFrame'>\n",
      "RangeIndex: 33 entries, 0 to 32\n",
      "Data columns (total 2 columns):\n",
      " #   Column           Non-Null Count  Dtype  \n",
      "---  ------           --------------  -----  \n",
      " 0   YearsExperience  30 non-null     float64\n",
      " 1   Salary           31 non-null     float64\n",
      "dtypes: float64(2)\n",
      "memory usage: 656.0 bytes\n",
      "None\n"
     ]
    }
   ],
   "source": [
    "# Afficher les informations\n",
    "print(data.info())"
   ]
  },
  {
   "cell_type": "markdown",
   "metadata": {},
   "source": [
    "# 6. Interpréter le résultat  <span style=\"color:green\">(0.5 pt) </span>"
   ]
  },
  {
   "cell_type": "markdown",
   "metadata": {},
   "source": [
    "**Votre réponse :** dataset de 2 colonne et 33 lignes de type float64"
   ]
  },
  {
   "cell_type": "markdown",
   "metadata": {
    "id": "kXH7IFgZxOd-"
   },
   "source": [
    "# 7. Vérifier l'existence des valeurs manquantes <span style=\"color:green\">(0.5 pt) </span>\n"
   ]
  },
  {
   "cell_type": "code",
   "execution_count": 6,
   "metadata": {
    "colab": {
     "base_uri": "https://localhost:8080/"
    },
    "id": "Vi2doBLzxMoz",
    "outputId": "1f09ef6a-4b0c-4beb-c008-7bbf342eaddf"
   },
   "outputs": [
    {
     "name": "stdout",
     "output_type": "stream",
     "text": [
      "YearsExperience    3\n",
      "Salary             2\n",
      "dtype: int64\n"
     ]
    }
   ],
   "source": [
    "# Vérification\n",
    "\n",
    "print(data.isnull().sum())"
   ]
  },
  {
   "cell_type": "markdown",
   "metadata": {
    "id": "lUFklkPj0ZuU"
   },
   "source": [
    "# 8. Remplacer les valeurs manquantes par la médiane de la colonne correspondante <span style=\"color:green\">(1 pt) </span>"
   ]
  },
  {
   "cell_type": "code",
   "execution_count": 7,
   "metadata": {
    "colab": {
     "base_uri": "https://localhost:8080/"
    },
    "id": "uoZANzUyxgQ1",
    "outputId": "0fafa094-fae1-4f5e-b285-ad5c1a8d8eb3"
   },
   "outputs": [],
   "source": [
    "# Remplir les valeurs manquantes\n",
    "\n",
    "data.fillna(data.median(), inplace=True)"
   ]
  },
  {
   "cell_type": "markdown",
   "metadata": {
    "id": "SRqX8eHo21gl"
   },
   "source": [
    "# 9. Vérifier l'absence de valeurs manquantes <span style=\"color:green\">(0.5 pt) </span>"
   ]
  },
  {
   "cell_type": "code",
   "execution_count": 8,
   "metadata": {
    "colab": {
     "base_uri": "https://localhost:8080/"
    },
    "id": "cCY-kHRJ2meY",
    "outputId": "a20ffaa3-6dc9-48a4-c3a5-21034e2aeff8"
   },
   "outputs": [
    {
     "name": "stdout",
     "output_type": "stream",
     "text": [
      "YearsExperience    0\n",
      "Salary             0\n",
      "dtype: int64\n"
     ]
    }
   ],
   "source": [
    "# Vérification\n",
    "print(data.isnull().sum())"
   ]
  },
  {
   "cell_type": "markdown",
   "metadata": {},
   "source": [
    "# 10. Afficher la description statistique de données <span style=\"color:green\">(0.5 pt) </span>"
   ]
  },
  {
   "cell_type": "code",
   "execution_count": 9,
   "metadata": {},
   "outputs": [
    {
     "name": "stdout",
     "output_type": "stream",
     "text": [
      "       YearsExperience         Salary\n",
      "count        33.000000      33.000000\n",
      "mean          6.536364   76503.303030\n",
      "std           8.559601   35882.068063\n",
      "min          -5.000000    5000.000000\n",
      "25%           3.200000   56642.000000\n",
      "50%           4.700000   66029.000000\n",
      "75%           7.900000   98273.000000\n",
      "max          50.000000  200000.000000\n"
     ]
    }
   ],
   "source": [
    "# description statistique\n",
    "print(data.describe())"
   ]
  },
  {
   "cell_type": "markdown",
   "metadata": {},
   "source": [
    "# 11. Interpréter chaque indice pour la variable 'Years Experience'  <span style=\"color:green\">(1 pt) </span>"
   ]
  },
  {
   "cell_type": "markdown",
   "metadata": {},
   "source": [
    "**Votre réponse :** 33 colones ; min est -5 ; max est 50 ; et moyenne est 6.5"
   ]
  },
  {
   "cell_type": "markdown",
   "metadata": {
    "id": "g-w8dfrc3axe"
   },
   "source": [
    "# 12. Détecter les valeurs aberrantes dans `data['Salary']` à l’aide d’un boxplot <span style=\"color:green\">(0.5 pt) </span>"
   ]
  },
  {
   "cell_type": "code",
   "execution_count": 10,
   "metadata": {
    "colab": {
     "base_uri": "https://localhost:8080/",
     "height": 454
    },
    "id": "w4e6xKHm28aZ",
    "outputId": "7070ee30-3544-447e-f7af-48ece75df3ab"
   },
   "outputs": [
    {
     "data": {
      "image/png": "[encoded data removed]",
      "text/plain": [
       "<Figure size 640x480 with 1 Axes>"
      ]
     },
     "metadata": {},
     "output_type": "display_data"
    }
   ],
   "source": [
    "# Visualisation des valeurs aberrantes dans data['Salary']\n",
    "\n",
    "plt.boxplot(data['Salary'])\n",
    "plt.title('Boxplot des salaires')\n",
    "plt.show()"
   ]
  },
  {
   "cell_type": "markdown",
   "metadata": {
    "id": "syHXxHZ-4HN8"
   },
   "source": [
    "# 13. Supprimer les valeurs aberrantes dans `data['Salary']` <span style=\"color:green\">(1 pt) </span>"
   ]
  },
  {
   "cell_type": "code",
   "execution_count": 11,
   "metadata": {
    "id": "7l9vMcWC4D1T"
   },
   "outputs": [],
   "source": [
    "# Suppression des valeurs aberrantes dans data['Salary']\n",
    "## Calcul du premier quartile (Q1) des salaires (25% des salaires sont inférieurs à cette valeur)\n",
    "\n",
    "Q1 = data['Salary'].quantile(0.25)\n",
    "\n",
    "## Calcul du troisième quartile (Q3) des salaires (75% des salaires sont inférieurs à cette valeur)\n",
    "\n",
    "Q3 = data['Salary'].quantile(0.75)\n",
    "\n",
    "##Calcul de l'intervalle interquartile (IQR), qui est la différence entre Q3 et Q1\n",
    "\n",
    "IQR = Q3 - Q1\n",
    "## Définition des limites inférieure et supérieure pour les valeurs aberrantes\n",
    "\n",
    "lower_bound = Q1 - 1.5 * IQR\n",
    "upper_bound = Q3 + 1.5 * IQR\n",
    "## Filtrage des données pour ne conserver que les salaires qui se trouvent entre les limites inférieure et supérieure\n",
    "\n",
    "data = data[(data['Salary'] >= lower_bound) & (data['Salary'] <= upper_bound)]"
   ]
  },
  {
   "cell_type": "markdown",
   "metadata": {},
   "source": [
    "# 14. Identifiez les valeurs aberrantes dans `data['YearsExperience']` à l’aide d’un boxplot <span style=\"color:green\">(0.5 pt) </span>"
   ]
  },
  {
   "cell_type": "code",
   "execution_count": 12,
   "metadata": {},
   "outputs": [
    {
     "data": {
      "image/png": "[encoded data removed]",
      "text/plain": [
       "<Figure size 640x480 with 1 Axes>"
      ]
     },
     "metadata": {},
     "output_type": "display_data"
    }
   ],
   "source": [
    "# Visualisation des valeurs aberrantes dans data['YearsExperience']\n",
    "\n",
    "plt.boxplot(data['YearsExperience'])\n",
    "plt.title('Boxplot des années d’experience')\n",
    "plt.show()"
   ]
  },
  {
   "cell_type": "markdown",
   "metadata": {},
   "source": [
    "# 15. Détecter les valeurs aberrantes dans `data['YearsExperience']` <span style=\"color:green\">(1 pt) </span>"
   ]
  },
  {
   "cell_type": "code",
   "execution_count": 13,
   "metadata": {},
   "outputs": [],
   "source": [
    "# Suppression des valeurs aberrantes dans data['SYearsExperience']\n",
    "## Calcul du premier quartile (Q1) des salaires (25% des années d'experience sont inférieurs à cette valeur)\n",
    "Q1 = data['YearsExperience'].quantile(0.25)\n",
    "\n",
    "## Calcul du troisième quartile (Q3) des années d'experience (75% des années d'experience sont inférieurs à cette valeur)\n",
    "Q3 = data['YearsExperience'].quantile(0.75)\n",
    "\n",
    "##Calcul de l'intervalle interquartile (IQR), qui est la différence entre Q3 et Q1\n",
    "IQR = Q3 - Q1\n",
    "\n",
    "## Définition des limites inférieure et supérieure pour les valeurs aberrantes\n",
    "lower_bound = Q1 - 1.5 * IQR\n",
    "upper_bound = Q3 + 1.5 * IQR\n",
    "\n",
    "## Filtrage des données pour ne conserver que les années d'experience qui se trouvent entre les limites inférieure et supérieure\n",
    "data = data[(data['YearsExperience'] >= lower_bound) & (data['YearsExperience'] <= upper_bound)]\n",
    "\n"
   ]
  },
  {
   "cell_type": "markdown",
   "metadata": {
    "id": "Fd3U05_Q5smz"
   },
   "source": [
    "# 16. Tracer un scatter plot (le nuage de points) de `data['Salary']` vs `data['YearsExperience']` <span style=\"color:green\">(1 pt) </span>"
   ]
  },
  {
   "cell_type": "code",
   "execution_count": 14,
   "metadata": {
    "colab": {
     "base_uri": "https://localhost:8080/",
     "height": 492
    },
    "id": "qwlalNuY5G_2",
    "outputId": "b682d348-5a96-454f-fd46-7db662b71352"
   },
   "outputs": [
    {
     "data": {
      "image/png": "[encoded data removed]",
      "text/plain": [
       "<Figure size 640x480 with 1 Axes>"
      ]
     },
     "metadata": {},
     "output_type": "display_data"
    }
   ],
   "source": [
    "# scatter plot\n",
    "\n",
    "plt.scatter(data['YearsExperience'], data['Salary'])\n",
    "plt.xlabel('Years of Experience')\n",
    "plt.ylabel('Salary')\n",
    "plt.title('Salary vs Years of Experience')\n",
    "plt.show()"
   ]
  },
  {
   "cell_type": "markdown",
   "metadata": {
    "id": "_LHZMdPF6g8O"
   },
   "source": [
    "# 17. Diviser le dataset en ensembles d'entraînement (80%) et de test (20%)  <span style=\"color:green\">(1 pt) </span>"
   ]
  },
  {
   "cell_type": "code",
   "execution_count": 15,
   "metadata": {
    "id": "2MhmP7_Q6ECK"
   },
   "outputs": [],
   "source": [
    "# Séparation des données (feature & target)\n",
    "X = data[['YearsExperience']]\n",
    "y = data['Salary']\n",
    "# Division en un ensemble d'entrainement et un ensemble de test\n",
    "X_train, X_test, y_train, y_test = train_test_split(X, y, test_size=0.2, random_state=42)"
   ]
  },
  {
   "cell_type": "markdown",
   "metadata": {
    "id": "DftrVOSJ7bMJ"
   },
   "source": [
    "# 18. Entraîner un modèle de régression linéaire <span style=\"color:green\">(1 pt) </span>"
   ]
  },
  {
   "cell_type": "code",
   "execution_count": 16,
   "metadata": {
    "colab": {
     "base_uri": "https://localhost:8080/",
     "height": 100
    },
    "id": "AxoFAEFw7Yud",
    "outputId": "9c770c09-c77c-4043-b5b3-8a1e13f4f6d1"
   },
   "outputs": [
    {
     "data": {
      "text/html": [
       "<style>#sk-container-id-1 {color: black;background-color: white;}#sk-container-id-1 pre{padding: 0;}#sk-container-id-1 div.sk-toggleable {background-color: white;}#sk-container-id-1 label.sk-toggleable__label {cursor: pointer;display: block;width: 100%;margin-bottom: 0;padding: 0.3em;box-sizing: border-box;text-align: center;}#sk-container-id-1 label.sk-toggleable__label-arrow:before {content: \"▸\";float: left;margin-right: 0.25em;color: #696969;}#sk-container-id-1 label.sk-toggleable__label-arrow:hover:before {color: black;}#sk-container-id-1 div.sk-estimator:hover label.sk-toggleable__label-arrow:before {color: black;}#sk-container-id-1 div.sk-toggleable__content {max-height: 0;max-width: 0;overflow: hidden;text-align: left;background-color: #f0f8ff;}#sk-container-id-1 div.sk-toggleable__content pre {margin: 0.2em;color: black;border-radius: 0.25em;background-color: #f0f8ff;}#sk-container-id-1 input.sk-toggleable__control:checked~div.sk-toggleable__content {max-height: 200px;max-width: 100%;overflow: auto;}#sk-container-id-1 input.sk-toggleable__control:checked~label.sk-toggleable__label-arrow:before {content: \"▾\";}#sk-container-id-1 div.sk-estimator input.sk-toggleable__control:checked~label.sk-toggleable__label {background-color: #d4ebff;}#sk-container-id-1 div.sk-label input.sk-toggleable__control:checked~label.sk-toggleable__label {background-color: #d4ebff;}#sk-container-id-1 input.sk-hidden--visually {border: 0;clip: rect(1px 1px 1px 1px);clip: rect(1px, 1px, 1px, 1px);height: 1px;margin: -1px;overflow: hidden;padding: 0;position: absolute;width: 1px;}#sk-container-id-1 div.sk-estimator {font-family: monospace;background-color: #f0f8ff;border: 1px dotted black;border-radius: 0.25em;box-sizing: border-box;margin-bottom: 0.5em;}#sk-container-id-1 div.sk-estimator:hover {background-color: #d4ebff;}#sk-container-id-1 div.sk-parallel-item::after {content: \"\";width: 100%;border-bottom: 1px solid gray;flex-grow: 1;}#sk-container-id-1 div.sk-label:hover label.sk-toggleable__label {background-color: #d4ebff;}#sk-container-id-1 div.sk-serial::before {content: \"\";position: absolute;border-left: 1px solid gray;box-sizing: border-box;top: 0;bottom: 0;left: 50%;z-index: 0;}#sk-container-id-1 div.sk-serial {display: flex;flex-direction: column;align-items: center;background-color: white;padding-right: 0.2em;padding-left: 0.2em;position: relative;}#sk-container-id-1 div.sk-item {position: relative;z-index: 1;}#sk-container-id-1 div.sk-parallel {display: flex;align-items: stretch;justify-content: center;background-color: white;position: relative;}#sk-container-id-1 div.sk-item::before, #sk-container-id-1 div.sk-parallel-item::before {content: \"\";position: absolute;border-left: 1px solid gray;box-sizing: border-box;top: 0;bottom: 0;left: 50%;z-index: -1;}#sk-container-id-1 div.sk-parallel-item {display: flex;flex-direction: column;z-index: 1;position: relative;background-color: white;}#sk-container-id-1 div.sk-parallel-item:first-child::after {align-self: flex-end;width: 50%;}#sk-container-id-1 div.sk-parallel-item:last-child::after {align-self: flex-start;width: 50%;}#sk-container-id-1 div.sk-parallel-item:only-child::after {width: 0;}#sk-container-id-1 div.sk-dashed-wrapped {border: 1px dashed gray;margin: 0 0.4em 0.5em 0.4em;box-sizing: border-box;padding-bottom: 0.4em;background-color: white;}#sk-container-id-1 div.sk-label label {font-family: monospace;font-weight: bold;display: inline-block;line-height: 1.2em;}#sk-container-id-1 div.sk-label-container {text-align: center;}#sk-container-id-1 div.sk-container {/* jupyter's `normalize.less` sets `[hidden] { display: none; }` but bootstrap.min.css set `[hidden] { display: none !important; }` so we also need the `!important` here to be able to override the default hidden behavior on the sphinx rendered scikit-learn.org. See: https://github.com/scikit-learn/scikit-learn/issues/21755 */display: inline-block !important;position: relative;}#sk-container-id-1 div.sk-text-repr-fallback {display: none;}</style><div id=\"sk-container-id-1\" class=\"sk-top-container\"><div class=\"sk-text-repr-fallback\"><pre>LinearRegression()</pre><b>In a Jupyter environment, please rerun this cell to show the HTML representation or trust the notebook. <br />On GitHub, the HTML representation is unable to render, please try loading this page with nbviewer.org.</b></div><div class=\"sk-container\" hidden><div class=\"sk-item\"><div class=\"sk-estimator sk-toggleable\"><input class=\"sk-toggleable__control sk-hidden--visually\" id=\"sk-estimator-id-1\" type=\"checkbox\" checked><label for=\"sk-estimator-id-1\" class=\"sk-toggleable__label sk-toggleable__label-arrow\">LinearRegression</label><div class=\"sk-toggleable__content\"><pre>LinearRegression()</pre></div></div></div></div></div>"
      ],
      "text/plain": [
       "LinearRegression()"
      ]
     },
     "execution_count": 16,
     "metadata": {},
     "output_type": "execute_result"
    }
   ],
   "source": [
    "# Entraînement\n",
    "\n",
    "model = LinearRegression()\n",
    "model.fit(X_train, y_train)"
   ]
  },
  {
   "cell_type": "markdown",
   "metadata": {
    "id": "SwyVH1XC74bz"
   },
   "source": [
    "# 19. Afficher les paramètres $\\theta_0$ (intercept) et $\\theta_1$ (pente)  <span style=\"color:green\">(1 pt) </span>"
   ]
  },
  {
   "cell_type": "code",
   "execution_count": 17,
   "metadata": {
    "colab": {
     "base_uri": "https://localhost:8080/"
    },
    "id": "-xHg8zK47TyI",
    "outputId": "af0d8ab3-0b34-4e48-9ed6-45505ebe3362"
   },
   "outputs": [
    {
     "name": "stdout",
     "output_type": "stream",
     "text": [
      "Intercept (𝜃0) : 30417.564230303164\n",
      "Coefficient (𝜃1) : 8405.93458379509\n"
     ]
    }
   ],
   "source": [
    "# Paramètres\n",
    "\n",
    "print(f\"Intercept (𝜃0) : {model.intercept_}\")\n",
    "print(f\"Coefficient (𝜃1) : {model.coef_[0]}\")"
   ]
  },
  {
   "cell_type": "markdown",
   "metadata": {},
   "source": [
    "# 20. Intérepréter les valeurs obtenues <span style=\"color:green\">(1 pt) </span>"
   ]
  },
  {
   "cell_type": "markdown",
   "metadata": {},
   "source": [
    "Votre réponse :  Le modele predit une augmentation de salaire de 𝜃1 (8405.93) par annee dexperience."
   ]
  },
  {
   "cell_type": "markdown",
   "metadata": {
    "id": "4oKf7sT69Rp5"
   },
   "source": [
    "# 21. Tracer les valeurs réelles et les prédictions sur l'ensemble de test  <span style=\"color:green\">(2 pt) </span>"
   ]
  },
  {
   "cell_type": "code",
   "execution_count": 24,
   "metadata": {
    "colab": {
     "base_uri": "https://localhost:8080/",
     "height": 492
    },
    "id": "cmg2NGZZ8_7d",
    "outputId": "2cc9f1a1-09e2-4b7f-ef0f-463533019752"
   },
   "outputs": [
    {
     "data": {
      "image/png": "[encoded data removed]",
      "text/plain": [
       "<Figure size 640x480 with 1 Axes>"
      ]
     },
     "metadata": {},
     "output_type": "display_data"
    }
   ],
   "source": [
    "# Prédictions\n",
    "y_pred = model.predict(X_test)\n",
    "\n",
    "# Visualisation\n",
    "plt.scatter(X_test, y_test, color='green', label='Valeurs reelles')\n",
    "plt.plot(X_test, y_pred, color='blue', label='Ligne de regression')\n",
    "plt.xlabel('Years of Experience')\n",
    "plt.ylabel('Salary')\n",
    "plt.title('Regression lineaire simple')\n",
    "plt.legend()\n",
    "plt.show()"
   ]
  },
  {
   "cell_type": "markdown",
   "metadata": {
    "id": "6tA85yik9zqw"
   },
   "source": [
    "# 21. Calculer et afficher les métriques $MAE$, $R^2$ et $RMSE$ <span style=\"color:green\">(2 pt) </span>"
   ]
  },
  {
   "cell_type": "code",
   "execution_count": 20,
   "metadata": {
    "colab": {
     "base_uri": "https://localhost:8080/"
    },
    "id": "M0gaI0zH-UIw",
    "outputId": "8e0f182f-2847-4cb1-9470-94a0d9c800a2"
   },
   "outputs": [
    {
     "name": "stdout",
     "output_type": "stream",
     "text": [
      "MAE : 7379.398359416275\n",
      "RMSE : 8830.345572796361\n",
      "R² : 0.847346080338864\n"
     ]
    }
   ],
   "source": [
    "mae = mean_absolute_error(y_test, y_pred)\n",
    "rmse = np.sqrt(mean_squared_error(y_test, y_pred))\n",
    "r2 = r2_score(y_test, y_pred)\n",
    "\n",
    "print(f\"MAE : {mae}\")\n",
    "print(f\"RMSE : {rmse}\")\n",
    "print(f\"R² : {r2}\")"
   ]
  },
  {
   "cell_type": "markdown",
   "metadata": {
    "id": "PN1kFCXj_Kye"
   },
   "source": [
    "# 23. Prédire le salaire pour des années d'expérience : `[[2], [5], [10]]`.<span style=\"color:green\">(1 pt) </span>"
   ]
  },
  {
   "cell_type": "code",
   "execution_count": 22,
   "metadata": {
    "colab": {
     "base_uri": "https://localhost:8080/"
    },
    "id": "VBNYLJDb9fDA",
    "outputId": "368202b9-b8e2-4e03-d3ff-10732802ff3e",
    "scrolled": false
   },
   "outputs": [
    {
     "name": "stdout",
     "output_type": "stream",
     "text": [
      "Pour 2 ans dexperience, le salaire estime est 47229.43.\n",
      "Pour 5 ans dexperience, le salaire estime est 72447.24.\n",
      "Pour 10 ans dexperience, le salaire estime est 114476.91.\n"
     ]
    },
    {
     "name": "stderr",
     "output_type": "stream",
     "text": [
      "C:\\Users\\everp\\anaconda3\\lib\\site-packages\\sklearn\\base.py:420: UserWarning: X does not have valid feature names, but LinearRegression was fitted with feature names\n",
      "  warnings.warn(\n"
     ]
    }
   ],
   "source": [
    "# Nouvelles prédictions\n",
    "new_experience = [[2], [5], [10]]\n",
    "new_salaries = model.predict(new_experience)\n",
    "\n",
    "# Affichage\n",
    "for exp, sal in zip(new_experience, new_salaries):\n",
    "    print(f\"Pour {exp[0]} ans dexperience, le salaire estime est {sal:.2f}.\")"
   ]
  }
 ],
 "metadata": {
  "colab": {
   "provenance": []
  },
  "kernelspec": {
   "display_name": "Python 3 (ipykernel)",
   "language": "python",
   "name": "python3"
  },
  "language_info": {
   "codemirror_mode": {
    "name": "ipython",
    "version": 3
   },
   "file_extension": ".py",
   "mimetype": "text/x-python",
   "name": "python",
   "nbconvert_exporter": "python",
   "pygments_lexer": "ipython3",
   "version": "3.10.9"
  }
 },
 "nbformat": 4,
 "nbformat_minor": 1
}
