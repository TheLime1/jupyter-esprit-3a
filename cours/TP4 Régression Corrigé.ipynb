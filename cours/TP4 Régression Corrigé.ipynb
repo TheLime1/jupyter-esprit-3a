{
 "cells": [
  {
   "cell_type": "markdown",
   "id": "9dfce81c",
   "metadata": {
    "id": "9dfce81c"
   },
   "source": [
    "<center>\n",
    "    <h1>Apprentissage supervisé : la régression linéaire</h1>\n",
    "</center>\n",
    "\n",
    "\n",
    "## Objectif du TP :\n",
    "\n",
    "Dans ce TP, les étudiants mettront en œuvre un algorithme d'apprentissage supervisé : **la régression linéaire**. En particulier, on s'intéressera à deux types de régression linéaire:\n",
    "- **la régression linéaire simple**: utilise une seule variable indépendante (ou explicative) pour prédire une variable dépendante (cible).\n",
    "- **la régression linéaire multiple**: utilise plusieurs variables indépendantes pour prédire une variable dépendante.\n",
    "\n",
    " \n",
    "\n"
   ]
  },
  {
   "cell_type": "markdown",
   "id": "7f10f849",
   "metadata": {},
   "source": [
    "**La régression linéaire**\n",
    "- est l'une des branches les plus fondamentales de l'apprentissage supervisé.\n",
    "- est un outil statistique puissant permettant d'examiner la relation entre deux ou plusieurs variables d'intérêt.\n",
    "- est utilisée pour estimer la relation entre une variable dépendante et diverses variables indépendantes.\n",
    "\n",
    "\n",
    "- son principe est de tracer une ligne qui correspond le mieux aux données. Cette ligne est connue sous le nom de `ligne de régression` et représente les valeurs prédites générées par l'algorithme. Elle est une droite dans le cas de régression linéaire simple et plus généralement un hyperplan dans le cas de régression linéaire multiple.\n"
   ]
  },
  {
   "cell_type": "markdown",
   "id": "912a3cd5",
   "metadata": {
    "id": "912a3cd5"
   },
   "source": [
    "# Rappel\n"
   ]
  },
  {
   "cell_type": "markdown",
   "id": "4e980d87",
   "metadata": {
    "id": "4e980d87"
   },
   "source": [
    "### C'est quoi l'apprentissage supervisé :\n",
    "\n",
    "\n",
    "\n",
    "- **L'apprentissage supervisé, également appelé apprentissage automatique supervisé, est une sous-catégorie de l'apprentissage automatique et de l'intelligence artificielle.**\n",
    "\n",
    "\n",
    "- **Il se définit par l'utilisation d'ensembles de données labelisées pour former des algorithmes permettant de classer des données ou de prédire des résultats avec précision.**\n",
    "\n",
    "\n",
    "- **Au fur et à mesure que les données d'entrée sont introduites dans le modèle, celui-ci ajuste ses poids jusqu'à ce que le modèle soit correctement ajusté.**\n",
    "\n"
   ]
  },
  {
   "cell_type": "markdown",
   "id": "0d45f540",
   "metadata": {
    "id": "0d45f540"
   },
   "source": [
    "###  Comment fonctionne l'apprentissage supervisé :\n",
    "\n",
    "\n",
    "- L'apprentissage supervisé utilise un ensemble d'apprentissage pour apprendre aux modèles à produire les résultats souhaités.\n",
    "\n",
    "\n",
    "- Cet ensemble de données d'apprentissage comprend des entrées et des sorties correctes, ce qui permet au modèle d'apprendre au fil du temps.\n",
    "\n",
    "\n",
    "- L'algorithme mesure sa précision en utilisant des formules mathématiques, et s'ajuste jusqu'à ce que l'erreur soit suffisamment minimisée."
   ]
  },
  {
   "cell_type": "markdown",
   "id": "dfca88a9",
   "metadata": {
    "id": "dfca88a9"
   },
   "source": [
    "### a. Partie pour l'apprentissage et partie pour le test (train test split):\n",
    "\n",
    "- Une approche consiste à diviser notre dataset en deux parties : une partie pour le `training` et l'autre pour le `testing`.\n",
    "\n",
    "- L'idée consiste à entraîner des différents modèles à l'aide de l'ensemble d'entraînement, ensuite on passe à l'étape de l'évaluation sur la liste du test pour choisir le modèle le plus performant.\n"
   ]
  },
  {
   "cell_type": "markdown",
   "id": "4b2d5890",
   "metadata": {
    "id": "4b2d5890"
   },
   "source": [
    "### Exemple d'application :\n",
    "\n",
    "- Nous allons utiliser la fonction `train_test_split()` pour choisir aléatoirement une liste pour le training et une liste pour le testing.\n",
    "- Cette fonction accepte un ou plusieurs tableaux (arrays) (tels que des listes, des tableaux de NumPy ou des DataFrames de pandas) en entrée et divise le(s) tableau(x) en sous-ensembles de training et de test. Après la division, elle renvoie deux ou plusieurs tableaux contenant la répartition train-test du ou des tableaux d'entrée."
   ]
  },
  {
   "cell_type": "code",
   "execution_count": 85,
   "id": "3ea52820",
   "metadata": {
    "id": "3ea52820"
   },
   "outputs": [],
   "source": [
    "X=[1,2,3,4,5,6,7,8,9,10]\n",
    "y=[23,11,31,45,12,65,43,90,13,12]\n"
   ]
  },
  {
   "cell_type": "markdown",
   "id": "990216b8",
   "metadata": {
    "id": "990216b8"
   },
   "source": [
    "- La fonction divise aléatoirement les deux tableaux et renvoie quatre tableaux. Si nous effectuons une répartition $80-20$, la fonction peut retourner les tableaux suivants :"
   ]
  },
  {
   "cell_type": "code",
   "execution_count": 86,
   "id": "19e18b07",
   "metadata": {
    "id": "19e18b07"
   },
   "outputs": [],
   "source": [
    "# training subset :\n",
    "X=[1,2,4,5,6,7,9,10]\n",
    "y=[23,11,45,12,65,43,13,12]"
   ]
  },
  {
   "cell_type": "code",
   "execution_count": 87,
   "id": "393e6c64",
   "metadata": {
    "id": "393e6c64"
   },
   "outputs": [],
   "source": [
    "# test subset :\n",
    "X=[3,8]\n",
    "y=[31,90]"
   ]
  },
  {
   "cell_type": "markdown",
   "id": "504d0f34",
   "metadata": {
    "id": "504d0f34"
   },
   "source": [
    "### b.  validation croisée à K couches (K-Fold Cross-Validation):\n",
    "\n",
    "- La validation croisée à $k$ couches implique de diviser notre dataset en $k$ sous-ensembles, appelés k couches.\n",
    "\n",
    "\n",
    "- Sur les $k$ couches, $k-1$ d'entre eux sont utilisés pour l'apprentissage, tandis que la couche restante est utilisée pour la validation.\n",
    "\n",
    "\n",
    "- L'algorithme est entraîné et testé $k$ fois, en utilisant à chaque fois une nouvelle couche comme ensemble de validation.\n",
    "\n",
    "\n",
    "- Enfin, le résultat du processus de validation croisée est la moyenne des résultats obtenus à chaque passage.\n"
   ]
  },
  {
   "cell_type": "code",
   "execution_count": 88,
   "id": "f9b38fe6",
   "metadata": {
    "id": "f9b38fe6"
   },
   "outputs": [],
   "source": [
    "X=[1,2,3,4,5,6,7,8,9,10]\n",
    "y=[23,11,31,45,12,65,43,90,13,12]"
   ]
  },
  {
   "cell_type": "markdown",
   "id": "a6554dfd",
   "metadata": {
    "id": "a6554dfd"
   },
   "source": [
    "- On utilise, par exemple, une validation croisée à 3 couches.\n",
    "\n",
    "\n",
    "Couche 1 :"
   ]
  },
  {
   "cell_type": "code",
   "execution_count": 89,
   "id": "65291f64",
   "metadata": {
    "id": "65291f64"
   },
   "outputs": [],
   "source": [
    "X=[1,5,9]\n",
    "y=[23,12,13]"
   ]
  },
  {
   "cell_type": "markdown",
   "id": "e064919a",
   "metadata": {
    "id": "e064919a"
   },
   "source": [
    "Couche 2 :"
   ]
  },
  {
   "cell_type": "code",
   "execution_count": 90,
   "id": "48647b41",
   "metadata": {
    "id": "48647b41"
   },
   "outputs": [],
   "source": [
    "X=[2,6,8]\n",
    "y=[11,65,90]"
   ]
  },
  {
   "cell_type": "markdown",
   "id": "53f57d2b",
   "metadata": {
    "id": "53f57d2b"
   },
   "source": [
    "Couche 3:"
   ]
  },
  {
   "cell_type": "code",
   "execution_count": 91,
   "id": "03ee87c0",
   "metadata": {
    "id": "03ee87c0"
   },
   "outputs": [],
   "source": [
    "X=[3,4,7]\n",
    "y=[31,45,43]"
   ]
  },
  {
   "cell_type": "markdown",
   "id": "538d970c",
   "metadata": {},
   "source": [
    "# Régression linéaire simple"
   ]
  },
  {
   "cell_type": "markdown",
   "id": "2fac8696",
   "metadata": {
    "id": "2fac8696"
   },
   "source": [
    "- Pour appliquer la validation croisée, on fait le training du modèle sur les couches $1$ et $2$ et on fait le test en utilisant la couche $3$.\n",
    "\n",
    "- On fait le même process en changeant les couches de test et de training : $2$ et $3$ pour le training et $1$ pour le test, ensuite $3$ et $1$ pour le training et $2$ pour le test.\n",
    "\n",
    "- Chaque evaluation va donner un score, exemple, $0.97$, $0.93$, $0.99$.\n",
    "\n",
    "\n",
    "- On prend la moyenne de ces scores $(0.97+0.93+0.99)/3=0.963$."
   ]
  },
  {
   "cell_type": "markdown",
   "id": "879910fb",
   "metadata": {
    "id": "879910fb"
   },
   "source": [
    "#### Comment peut on choisir la meilleure droite :\n",
    "\n",
    "\n",
    "\n",
    "- La régression linéaire $\\underline{\\mbox{simple}}$ utilise une droite pour définir la relation entre deux variables, X et Y et elle utilise le modèle mathématique suivant :\n",
    "\n",
    "$$Y=\\beta_0+\\beta_1 X$$.\n",
    "\n",
    "\n",
    "- La régression linéaire $\\underline{\\mbox{multiple}}$ utilise un hyperplan pour définir la relation entre plusieur variables indépendantes $X_1, X_2,\\dots X_n$ et la variable dépendante Y et elle utilise le modèle mathématique suivant :\n",
    "\n",
    "$$Y=\\beta_0+\\beta_1 X_1+\\beta_2 X_2+\\dots + \\beta_n X_n=\\beta_0+\\begin{pmatrix}\\beta_1&\\beta_2&\\dots&\\beta_n\\end{pmatrix}\\begin{pmatrix}X_1\\\\X_2\\\\\\vdots\\\\X_n\\end{pmatrix}=\\beta_0+\\beta.X$$.\n",
    "\n",
    "- $\\beta=\\begin{pmatrix}\\beta_1&\\beta_2&\\dots&\\beta_n\\end{pmatrix}$ et $X=\\begin{pmatrix}X_1\\\\X_2\\\\\\vdots\\\\X_n\\end{pmatrix}$\n",
    "\n",
    "\n",
    "- $\\beta_0,\\beta_1,\\beta_2,\\dots,\\beta_n$ sont les paramètres du modèles, et l'objectif principal de l'algorithme est de déterminer les meilleures valeurs pour ces paramètres.\n",
    "\n",
    "\n",
    "- L'erreur d'un point de données est la distance entre sa valeur prédite et sa valeur réelle. Cette erreur est techniquement connue comme le résidu.\n",
    "\n",
    "- L'objectif de l'algorithme de régression linéaire est de trouver les meilleures valeures $\\beta_0,\\beta_1,\\beta_2,\\dots,\\beta_n$ qui donne le plus petit Mean Squared Error : une fonction construite par tous les résidus et avec des variables $\\beta_0,\\beta_1,\\beta_2,\\dots,\\beta_n$.\n",
    "\n",
    "$\\Rightarrow$ La régression linéaire multiple est plus performante que la La régression linéaire simple."
   ]
  },
  {
   "cell_type": "markdown",
   "id": "a0476044",
   "metadata": {},
   "source": [
    "## Les étapes pour appliquer **la régression linéaire**:\n",
    "\n",
    "1. Importer des modules spécifiques (linear_model, model_selection) à partir des bibliothèques (sklearn) nécessaires pour le modèle.\n",
    "\n",
    "\n",
    "2. Construire la dataframe.\n",
    "\n",
    "\n",
    "3. Examiner la data.\n",
    "\n",
    "\n",
    "4. Diviser la data en deux parties : training and testing.\n",
    "\n",
    "\n",
    "5. Visualiser  la data.\n",
    "\n",
    "\n",
    "6. Entrainer le modèle.\n",
    "\n",
    "\n",
    "7. Evaluer le modèle."
   ]
  },
  {
   "cell_type": "markdown",
   "id": "2fd0f8e7",
   "metadata": {
    "id": "0e8ba86e"
   },
   "source": [
    "### **1. Importer les bibliothèques nécessaires pour le modèle.**"
   ]
  },
  {
   "cell_type": "code",
   "execution_count": 92,
   "id": "3801e49b",
   "metadata": {
    "id": "3801e49b"
   },
   "outputs": [],
   "source": [
    "import numpy as np\n",
    "import pandas as pd\n",
    "import matplotlib.pyplot as plt\n",
    "from sklearn.linear_model import LinearRegression\n",
    "from sklearn.model_selection import train_test_split\n",
    "from sklearn.metrics import mean_absolute_error, mean_squared_error, r2_score"
   ]
  },
  {
   "cell_type": "markdown",
   "id": "59cf6442",
   "metadata": {
    "id": "59cf6442"
   },
   "source": [
    "### **2. Construire la dataframe.**"
   ]
  },
  {
   "cell_type": "code",
   "execution_count": 93,
   "id": "ab6e1106",
   "metadata": {
    "id": "ab6e1106"
   },
   "outputs": [],
   "source": [
    "#Chargement des données\n",
    "housing = pd.read_csv('house_area_price.csv')"
   ]
  },
  {
   "cell_type": "markdown",
   "id": "530dd3bd",
   "metadata": {
    "id": "530dd3bd"
   },
   "source": [
    "### **3. Examiner la data.**"
   ]
  },
  {
   "cell_type": "code",
   "execution_count": 94,
   "id": "9SEd-8TeXFVj",
   "metadata": {
    "colab": {
     "base_uri": "https://localhost:8080/"
    },
    "id": "9SEd-8TeXFVj",
    "outputId": "29401aed-ce34-4cd2-a3a2-446252e4621b"
   },
   "outputs": [
    {
     "data": {
      "text/plain": [
       "(1000, 2)"
      ]
     },
     "execution_count": 94,
     "metadata": {},
     "output_type": "execute_result"
    }
   ],
   "source": [
    "#Number of rows and columns\n",
    "housing.shape"
   ]
  },
  {
   "cell_type": "code",
   "execution_count": 95,
   "id": "99d8d3dd",
   "metadata": {
    "colab": {
     "base_uri": "https://localhost:8080/",
     "height": 206
    },
    "id": "99d8d3dd",
    "outputId": "34ddcfaa-a255-497a-def1-bdd1a4101034",
    "scrolled": true
   },
   "outputs": [
    {
     "data": {
      "text/html": [
       "<div>\n",
       "<style scoped>\n",
       "    .dataframe tbody tr th:only-of-type {\n",
       "        vertical-align: middle;\n",
       "    }\n",
       "\n",
       "    .dataframe tbody tr th {\n",
       "        vertical-align: top;\n",
       "    }\n",
       "\n",
       "    .dataframe thead th {\n",
       "        text-align: right;\n",
       "    }\n",
       "</style>\n",
       "<table border=\"1\" class=\"dataframe\">\n",
       "  <thead>\n",
       "    <tr style=\"text-align: right;\">\n",
       "      <th></th>\n",
       "      <th>Area</th>\n",
       "      <th>Price</th>\n",
       "    </tr>\n",
       "  </thead>\n",
       "  <tbody>\n",
       "    <tr>\n",
       "      <th>0</th>\n",
       "      <td>1360</td>\n",
       "      <td>2.623829e+05</td>\n",
       "    </tr>\n",
       "    <tr>\n",
       "      <th>1</th>\n",
       "      <td>4272</td>\n",
       "      <td>9.852609e+05</td>\n",
       "    </tr>\n",
       "    <tr>\n",
       "      <th>2</th>\n",
       "      <td>3592</td>\n",
       "      <td>7.779774e+05</td>\n",
       "    </tr>\n",
       "    <tr>\n",
       "      <th>3</th>\n",
       "      <td>966</td>\n",
       "      <td>2.296989e+05</td>\n",
       "    </tr>\n",
       "    <tr>\n",
       "      <th>4</th>\n",
       "      <td>4926</td>\n",
       "      <td>1.041741e+06</td>\n",
       "    </tr>\n",
       "  </tbody>\n",
       "</table>\n",
       "</div>"
      ],
      "text/plain": [
       "   Area         Price\n",
       "0  1360  2.623829e+05\n",
       "1  4272  9.852609e+05\n",
       "2  3592  7.779774e+05\n",
       "3   966  2.296989e+05\n",
       "4  4926  1.041741e+06"
      ]
     },
     "execution_count": 95,
     "metadata": {},
     "output_type": "execute_result"
    }
   ],
   "source": [
    "#Show the first 5 rows of the dataset\n",
    "housing.head()"
   ]
  },
  {
   "cell_type": "code",
   "execution_count": 96,
   "id": "AZZ9rzEyXd9p",
   "metadata": {
    "colab": {
     "base_uri": "https://localhost:8080/"
    },
    "id": "AZZ9rzEyXd9p",
    "outputId": "e2f06e59-a694-4262-8795-3c1095f218d7"
   },
   "outputs": [
    {
     "name": "stdout",
     "output_type": "stream",
     "text": [
      "<class 'pandas.core.frame.DataFrame'>\n",
      "RangeIndex: 1000 entries, 0 to 999\n",
      "Data columns (total 2 columns):\n",
      " #   Column  Non-Null Count  Dtype  \n",
      "---  ------  --------------  -----  \n",
      " 0   Area    1000 non-null   int64  \n",
      " 1   Price   1000 non-null   float64\n",
      "dtypes: float64(1), int64(1)\n",
      "memory usage: 15.8 KB\n"
     ]
    }
   ],
   "source": [
    "#Get information about columns\n",
    "housing.info()"
   ]
  },
  {
   "cell_type": "code",
   "execution_count": 97,
   "id": "06307f4f",
   "metadata": {
    "colab": {
     "base_uri": "https://localhost:8080/",
     "height": 300
    },
    "id": "06307f4f",
    "outputId": "8c298c1f-4794-4c3b-90b1-df014f180b2f"
   },
   "outputs": [
    {
     "data": {
      "text/html": [
       "<div>\n",
       "<style scoped>\n",
       "    .dataframe tbody tr th:only-of-type {\n",
       "        vertical-align: middle;\n",
       "    }\n",
       "\n",
       "    .dataframe tbody tr th {\n",
       "        vertical-align: top;\n",
       "    }\n",
       "\n",
       "    .dataframe thead th {\n",
       "        text-align: right;\n",
       "    }\n",
       "</style>\n",
       "<table border=\"1\" class=\"dataframe\">\n",
       "  <thead>\n",
       "    <tr style=\"text-align: right;\">\n",
       "      <th></th>\n",
       "      <th>Area</th>\n",
       "      <th>Price</th>\n",
       "    </tr>\n",
       "  </thead>\n",
       "  <tbody>\n",
       "    <tr>\n",
       "      <th>count</th>\n",
       "      <td>1000.000000</td>\n",
       "      <td>1.000000e+03</td>\n",
       "    </tr>\n",
       "    <tr>\n",
       "      <th>mean</th>\n",
       "      <td>2815.422000</td>\n",
       "      <td>6.188610e+05</td>\n",
       "    </tr>\n",
       "    <tr>\n",
       "      <th>std</th>\n",
       "      <td>1255.514921</td>\n",
       "      <td>2.535681e+05</td>\n",
       "    </tr>\n",
       "    <tr>\n",
       "      <th>min</th>\n",
       "      <td>503.000000</td>\n",
       "      <td>1.116269e+05</td>\n",
       "    </tr>\n",
       "    <tr>\n",
       "      <th>25%</th>\n",
       "      <td>1749.500000</td>\n",
       "      <td>4.016482e+05</td>\n",
       "    </tr>\n",
       "    <tr>\n",
       "      <th>50%</th>\n",
       "      <td>2862.500000</td>\n",
       "      <td>6.282673e+05</td>\n",
       "    </tr>\n",
       "    <tr>\n",
       "      <th>75%</th>\n",
       "      <td>3849.500000</td>\n",
       "      <td>8.271413e+05</td>\n",
       "    </tr>\n",
       "    <tr>\n",
       "      <th>max</th>\n",
       "      <td>4999.000000</td>\n",
       "      <td>1.108237e+06</td>\n",
       "    </tr>\n",
       "  </tbody>\n",
       "</table>\n",
       "</div>"
      ],
      "text/plain": [
       "              Area         Price\n",
       "count  1000.000000  1.000000e+03\n",
       "mean   2815.422000  6.188610e+05\n",
       "std    1255.514921  2.535681e+05\n",
       "min     503.000000  1.116269e+05\n",
       "25%    1749.500000  4.016482e+05\n",
       "50%    2862.500000  6.282673e+05\n",
       "75%    3849.500000  8.271413e+05\n",
       "max    4999.000000  1.108237e+06"
      ]
     },
     "execution_count": 97,
     "metadata": {},
     "output_type": "execute_result"
    }
   ],
   "source": [
    "# Generate descriptive statistics.\n",
    "housing.describe()"
   ]
  },
  {
   "cell_type": "code",
   "execution_count": 30,
   "id": "qXfoyUw5Xk1z",
   "metadata": {
    "colab": {
     "base_uri": "https://localhost:8080/"
    },
    "id": "qXfoyUw5Xk1z",
    "outputId": "422a8544-f9e6-4a2f-9dea-52d12dbd386f"
   },
   "outputs": [
    {
     "data": {
      "text/plain": [
       "0"
      ]
     },
     "execution_count": 30,
     "metadata": {},
     "output_type": "execute_result"
    }
   ],
   "source": [
    "#check for duplicate rows\n",
    "housing.duplicated().sum()"
   ]
  },
  {
   "cell_type": "code",
   "execution_count": 31,
   "id": "a6165575",
   "metadata": {
    "colab": {
     "base_uri": "https://localhost:8080/",
     "height": 147
    },
    "id": "a6165575",
    "outputId": "af2f3a94-0d4d-4f1f-842a-8013463bebee"
   },
   "outputs": [
    {
     "data": {
      "text/plain": [
       "Area     0\n",
       "Price    0\n",
       "dtype: int64"
      ]
     },
     "execution_count": 31,
     "metadata": {},
     "output_type": "execute_result"
    }
   ],
   "source": [
    "#Check for missing values\n",
    "housing.isnull().sum()"
   ]
  },
  {
   "cell_type": "markdown",
   "id": "05032460",
   "metadata": {
    "id": "05032460"
   },
   "source": [
    "### **4. Diviser la data en deux parties : training and testing.**\n"
   ]
  },
  {
   "cell_type": "code",
   "execution_count": 32,
   "id": "3a65af8f",
   "metadata": {
    "id": "3a65af8f"
   },
   "outputs": [],
   "source": [
    "X = housing[['Area']]\n",
    "y = housing['Price']\n",
    "\n",
    "X_train, X_test, y_train, y_test = train_test_split(X, y, test_size=0.2, random_state=True)"
   ]
  },
  {
   "cell_type": "markdown",
   "id": "b1e4dcd4",
   "metadata": {
    "id": "b1e4dcd4"
   },
   "source": [
    "### 5. **Visualiser  la data.**\n"
   ]
  },
  {
   "cell_type": "code",
   "execution_count": 33,
   "id": "e8b0c477",
   "metadata": {
    "colab": {
     "base_uri": "https://localhost:8080/",
     "height": 489
    },
    "id": "e8b0c477",
    "outputId": "ea53ad82-bd26-4986-8ebe-8bd97844daa8"
   },
   "outputs": [
    {
     "data": {
      "text/plain": [
       "Text(0, 0.5, 'Price')"
      ]
     },
     "execution_count": 33,
     "metadata": {},
     "output_type": "execute_result"
    },
    {
     "data": {
      "image/png": "[encoded data removed]",
      "text/plain": [
       "<Figure size 640x480 with 1 Axes>"
      ]
     },
     "metadata": {},
     "output_type": "display_data"
    }
   ],
   "source": [
    "plt.scatter(X_train['Area'], y_train, s=1)\n",
    "plt.title('Price vs Area')\n",
    "plt.xlabel('Area')\n",
    "plt.ylabel('Price')"
   ]
  },
  {
   "cell_type": "markdown",
   "id": "967f9325",
   "metadata": {
    "id": "967f9325"
   },
   "source": [
    "### **6. Entrainer le modèle.**\n"
   ]
  },
  {
   "cell_type": "code",
   "execution_count": 34,
   "id": "51002a00",
   "metadata": {
    "colab": {
     "base_uri": "https://localhost:8080/",
     "height": 80
    },
    "id": "51002a00",
    "outputId": "3cff418a-f1df-48f2-fa6e-448a1ba245a6"
   },
   "outputs": [
    {
     "data": {
      "text/html": [
       "<style>#sk-container-id-1 {color: black;}#sk-container-id-1 pre{padding: 0;}#sk-container-id-1 div.sk-toggleable {background-color: white;}#sk-container-id-1 label.sk-toggleable__label {cursor: pointer;display: block;width: 100%;margin-bottom: 0;padding: 0.3em;box-sizing: border-box;text-align: center;}#sk-container-id-1 label.sk-toggleable__label-arrow:before {content: \"▸\";float: left;margin-right: 0.25em;color: #696969;}#sk-container-id-1 label.sk-toggleable__label-arrow:hover:before {color: black;}#sk-container-id-1 div.sk-estimator:hover label.sk-toggleable__label-arrow:before {color: black;}#sk-container-id-1 div.sk-toggleable__content {max-height: 0;max-width: 0;overflow: hidden;text-align: left;background-color: #f0f8ff;}#sk-container-id-1 div.sk-toggleable__content pre {margin: 0.2em;color: black;border-radius: 0.25em;background-color: #f0f8ff;}#sk-container-id-1 input.sk-toggleable__control:checked~div.sk-toggleable__content {max-height: 200px;max-width: 100%;overflow: auto;}#sk-container-id-1 input.sk-toggleable__control:checked~label.sk-toggleable__label-arrow:before {content: \"▾\";}#sk-container-id-1 div.sk-estimator input.sk-toggleable__control:checked~label.sk-toggleable__label {background-color: #d4ebff;}#sk-container-id-1 div.sk-label input.sk-toggleable__control:checked~label.sk-toggleable__label {background-color: #d4ebff;}#sk-container-id-1 input.sk-hidden--visually {border: 0;clip: rect(1px 1px 1px 1px);clip: rect(1px, 1px, 1px, 1px);height: 1px;margin: -1px;overflow: hidden;padding: 0;position: absolute;width: 1px;}#sk-container-id-1 div.sk-estimator {font-family: monospace;background-color: #f0f8ff;border: 1px dotted black;border-radius: 0.25em;box-sizing: border-box;margin-bottom: 0.5em;}#sk-container-id-1 div.sk-estimator:hover {background-color: #d4ebff;}#sk-container-id-1 div.sk-parallel-item::after {content: \"\";width: 100%;border-bottom: 1px solid gray;flex-grow: 1;}#sk-container-id-1 div.sk-label:hover label.sk-toggleable__label {background-color: #d4ebff;}#sk-container-id-1 div.sk-serial::before {content: \"\";position: absolute;border-left: 1px solid gray;box-sizing: border-box;top: 0;bottom: 0;left: 50%;z-index: 0;}#sk-container-id-1 div.sk-serial {display: flex;flex-direction: column;align-items: center;background-color: white;padding-right: 0.2em;padding-left: 0.2em;position: relative;}#sk-container-id-1 div.sk-item {position: relative;z-index: 1;}#sk-container-id-1 div.sk-parallel {display: flex;align-items: stretch;justify-content: center;background-color: white;position: relative;}#sk-container-id-1 div.sk-item::before, #sk-container-id-1 div.sk-parallel-item::before {content: \"\";position: absolute;border-left: 1px solid gray;box-sizing: border-box;top: 0;bottom: 0;left: 50%;z-index: -1;}#sk-container-id-1 div.sk-parallel-item {display: flex;flex-direction: column;z-index: 1;position: relative;background-color: white;}#sk-container-id-1 div.sk-parallel-item:first-child::after {align-self: flex-end;width: 50%;}#sk-container-id-1 div.sk-parallel-item:last-child::after {align-self: flex-start;width: 50%;}#sk-container-id-1 div.sk-parallel-item:only-child::after {width: 0;}#sk-container-id-1 div.sk-dashed-wrapped {border: 1px dashed gray;margin: 0 0.4em 0.5em 0.4em;box-sizing: border-box;padding-bottom: 0.4em;background-color: white;}#sk-container-id-1 div.sk-label label {font-family: monospace;font-weight: bold;display: inline-block;line-height: 1.2em;}#sk-container-id-1 div.sk-label-container {text-align: center;}#sk-container-id-1 div.sk-container {/* jupyter's `normalize.less` sets `[hidden] { display: none; }` but bootstrap.min.css set `[hidden] { display: none !important; }` so we also need the `!important` here to be able to override the default hidden behavior on the sphinx rendered scikit-learn.org. See: https://github.com/scikit-learn/scikit-learn/issues/21755 */display: inline-block !important;position: relative;}#sk-container-id-1 div.sk-text-repr-fallback {display: none;}</style><div id=\"sk-container-id-1\" class=\"sk-top-container\"><div class=\"sk-text-repr-fallback\"><pre>LinearRegression()</pre><b>In a Jupyter environment, please rerun this cell to show the HTML representation or trust the notebook. <br />On GitHub, the HTML representation is unable to render, please try loading this page with nbviewer.org.</b></div><div class=\"sk-container\" hidden><div class=\"sk-item\"><div class=\"sk-estimator sk-toggleable\"><input class=\"sk-toggleable__control sk-hidden--visually\" id=\"sk-estimator-id-1\" type=\"checkbox\" checked><label for=\"sk-estimator-id-1\" class=\"sk-toggleable__label sk-toggleable__label-arrow\">LinearRegression</label><div class=\"sk-toggleable__content\"><pre>LinearRegression()</pre></div></div></div></div></div>"
      ],
      "text/plain": [
       "LinearRegression()"
      ]
     },
     "execution_count": 34,
     "metadata": {},
     "output_type": "execute_result"
    }
   ],
   "source": [
    "lr = LinearRegression()\n",
    "lr.fit(X_train, y_train)"
   ]
  },
  {
   "cell_type": "code",
   "execution_count": 35,
   "id": "87be4078",
   "metadata": {
    "colab": {
     "base_uri": "https://localhost:8080/"
    },
    "id": "87be4078",
    "outputId": "623018cc-831b-435a-9d49-a14c3c199bf3"
   },
   "outputs": [
    {
     "name": "stdout",
     "output_type": "stream",
     "text": [
      "57087.17915647896\n",
      "[200.21142071]\n"
     ]
    }
   ],
   "source": [
    "print(lr.intercept_)\n",
    "print(lr.coef_)"
   ]
  },
  {
   "cell_type": "code",
   "execution_count": 36,
   "id": "4e6bdb5d",
   "metadata": {
    "colab": {
     "base_uri": "https://localhost:8080/",
     "height": 489
    },
    "id": "4e6bdb5d",
    "outputId": "5c4a860c-501b-432a-c956-42f885c3516a"
   },
   "outputs": [
    {
     "data": {
      "text/plain": [
       "Text(0, 0.5, 'Price')"
      ]
     },
     "execution_count": 36,
     "metadata": {},
     "output_type": "execute_result"
    },
    {
     "data": {
      "image/png": "[encoded data removed]",
      "text/plain": [
       "<Figure size 640x480 with 1 Axes>"
      ]
     },
     "metadata": {},
     "output_type": "display_data"
    }
   ],
   "source": [
    "plt.scatter(X_test['Area'], y_test, s=1)\n",
    "\n",
    "y_pred = lr.predict(X_test)\n",
    "plt.plot(X_test['Area'], y_pred, color='red')\n",
    "\n",
    "plt.title('Price vs Area')\n",
    "plt.xlabel('Area')\n",
    "plt.ylabel('Price')"
   ]
  },
  {
   "cell_type": "markdown",
   "id": "d1cae3dd",
   "metadata": {
    "id": "d1cae3dd"
   },
   "source": [
    "### **7. Evaluer le modèle.**\n",
    "Discutons des critères d'évaluation des modèles de régression. Les mesures couramment utilisées sont:\n",
    "- L'erreur absolue moyenne (MAE)\n",
    "- l'erreur quadratique moyenne racine (Root Mean Squared Error) \n",
    "- le R-carré (R squared).\n"
   ]
  },
  {
   "cell_type": "markdown",
   "id": "352ef9d9",
   "metadata": {},
   "source": [
    "### 7.1 L'erreur absolue moyenne (MAE): \n",
    "- Cette valeur mesure l'ampleur moyenne des erreurs entre les valeurs prédites et les valeurs réelles, sans tenir compte de la direction de ces erreurs.\n",
    "$$ MAE = \\frac{1}{n} \\sum \\lvert y_{vrai} - y_{pred} \\rvert $$\n",
    "- Supposons que nous avons deux listes: **pred** et **true** qui stockent les valeurs réelles et les valeurs prédites :"
   ]
  },
  {
   "cell_type": "code",
   "execution_count": 42,
   "id": "033752ab",
   "metadata": {},
   "outputs": [],
   "source": [
    "pred=[2.1,1.4,5.6,7.9]\n",
    "true=[2.5,1.6,5.1,6.8]"
   ]
  },
  {
   "cell_type": "markdown",
   "id": "d2bfa723",
   "metadata": {},
   "source": [
    "Pour calculer le MAE, on commence par\n",
    "- Calculer la différence entre les valeurs des deux listes $\\Rightarrow \\; [-0.4,-0.2, 0.5, 1.1]$.\n",
    "\n",
    "\n",
    "- On cherche les valeurs absolues des valeurs obtenues $\\Rightarrow \\; [0.4, 0.2, 0.5, 1.1]$.\n",
    "\n",
    "\n",
    "- On Calcule la somme $\\Rightarrow \\; 0.4+0.2+0.5+1.1=2.2$.\n",
    "\n",
    "\n",
    "$\\Rightarrow$ MAE = $2.2$."
   ]
  },
  {
   "cell_type": "markdown",
   "id": "b531ec24",
   "metadata": {
    "id": "b531ec24"
   },
   "source": [
    "\n",
    "### 7.2 L'erreur quadratique moyenne racine (Root Mean Squared Error): RMSE\n",
    "\n",
    "\n",
    "- Cette valeur est déterminée en calculant la racine carrée de la moyenne des différences au carré entre les valeurs réelles et les valeurs prédites.\n",
    "\n",
    " $$RMSE=\\sqrt{\\dfrac{e^2_1+e^2_2+\\dots+e^2_n}{n}}, \\; \\mbox{avec} \\;e_i=y_i-\\tilde{y}_i$$\n",
    "\n",
    "- Dans l'exemple précédent:"
   ]
  },
  {
   "cell_type": "code",
   "execution_count": 45,
   "id": "b91ef683",
   "metadata": {
    "id": "b91ef683"
   },
   "outputs": [],
   "source": [
    "pred=[2.1,1.4,5.6,7.9]\n",
    "true=[2.5,1.6,5.1,6.8]"
   ]
  },
  {
   "cell_type": "markdown",
   "id": "047fae5f",
   "metadata": {
    "id": "047fae5f"
   },
   "source": [
    "Pour calculer le MSE, on commence par\n",
    "- Calculer la différence entre les valeurs des deux listes $\\Rightarrow \\; [-0.4,-0.2, 0.5, 1.1]$.\n",
    "\n",
    "\n",
    "- On cherche les carrés des valeurs obtenues $\\Rightarrow \\; [0.16, 0.4, 0.25, 1.21]$.\n",
    "\n",
    "\n",
    "- On cherche la moyenne des valeurs trouvées $\\Rightarrow \\; \\dfrac{(0.16+0.4+0.25+1.21)}{4}=0.505$.\n",
    "\n",
    "\n",
    "$\\Rightarrow$ RMSE = la racine carrées de la moyenne = $\\sqrt{0.505}=0.71$."
   ]
  },
  {
   "cell_type": "markdown",
   "id": "511711a0",
   "metadata": {
    "id": "511711a0"
   },
   "source": [
    "### 7.3 le R-carré (R squared): $R^2$\n",
    "\n",
    "\n",
    "- Aussi connue sous le nom score $R^2$, c'est une mesure statistique de la proximité des données par rapport à la ligne de régression ajustée. Il est également connu sous le nom de coefficient de détermination, ou de coefficient de détermination multiple pour la régression multiple.\n",
    "\n",
    " $$R^2 \\mbox{score}=1-\\dfrac{\\mbox{Sum of Squared Differences between predicted and true values}}{\\mbox{Sum of Squared Differences between true values and mean of true values}} = 1-\\dfrac{\\sum(y_{p_i} - y_{t_i})^2}{\\sum (y_{t_i} - \\bar{y_t})^2}$$\n",
    "\n",
    "\n",
    "- $R^2$ est entre $0\\%$ et $100\\%$ __dans le contexte de la régression linéaire__ :\n",
    "\n",
    "    $0\\%$ indique que le modèle n'explique aucune des variabilités des données de réponse autour de sa moyenne.\n",
    "    \n",
    "    $100\\%$ indique que le modèle explique toute la variabilité des données de réponse autour de sa moyenne.\n",
    "    \n",
    "    __Cependant, il est important de noter que dans certains cas particuliers, comme les modèles de régression non linéaire ou les modèles mal spécifiés, les valeurs de $R^2$ peuvent être négatives.__\n",
    "\n",
    "On prend les mêmes listes :"
   ]
  },
  {
   "cell_type": "code",
   "execution_count": 46,
   "id": "20b18093",
   "metadata": {
    "id": "20b18093"
   },
   "outputs": [],
   "source": [
    "pred=[2.1,1.4,5.6,7.9]\n",
    "true=[2.5,1.6,5.1,6.8]"
   ]
  },
  {
   "cell_type": "markdown",
   "id": "270bca6d",
   "metadata": {
    "id": "270bca6d"
   },
   "source": [
    "- On commence par calculer la différence entre les valeurs des deux listes $\\Rightarrow \\; [-0.4,-0.2, 0.5, 1.1]$.\n",
    "\n",
    "\n",
    "- On cherche le carrés des valeurs de la liste $\\Rightarrow \\; [0.16, 0.4, 0.25, 1.21]=$ Squared Differences between predicted and true values $= (y_{p_i} - y_{t_i})^2 $\n",
    "\n",
    "\n",
    "- On va calculer la somme: $\\sum (y_{p_i} - y_{t_i})^2=0.16+0.4+0.25+1.21=1.66$.\n",
    "\n",
    "\n",
    "- On cherche la moyenne des valeurs de la liste true $\\Rightarrow \\; \\dfrac{(2.5+1.6+5.1+6.8)}{4}=4$.\n",
    "\n",
    "\n",
    "- On cherche la liste de la difference entre les valeurs de true et leurs moyenne ${(y_{t_i} - \\bar{y_t})^2}$ $[-1.5,-2.4,1.1,2.8]\\; \\Rightarrow\\; \\mbox{les carrés} =[2.25,5.76,1.21,7.84]$.\n",
    "\n",
    "\n",
    "- On fait la somme ${\\sum(y_{t_i} - \\bar{y_t})^2}$ $=2.25+5.76+1.21+7.84=17.06$.\n",
    "\n",
    "\n",
    "$$\\Rightarrow R^2= 1-\\dfrac{\\sum(y_{p_i} - y_{t_i})^2}{\\sum (y_{t_i} - \\bar{y_t})^2}=1-\\dfrac{1.66}{17.06}=0.902696$$"
   ]
  },
  {
   "cell_type": "code",
   "execution_count": 64,
   "id": "1cf5b4b1",
   "metadata": {
    "colab": {
     "base_uri": "https://localhost:8080/"
    },
    "id": "1cf5b4b1",
    "outputId": "9c208831-b368-4388-8796-ad98d7086e7d"
   },
   "outputs": [
    {
     "name": "stdout",
     "output_type": "stream",
     "text": [
      "27085.216196781057\n",
      "32737.020858082953\n",
      "0.982164362898043\n"
     ]
    }
   ],
   "source": [
    "MAE = mean_absolute_error(y_test, y_pred)\n",
    "RMSE = mean_squared_error(y_test, y_pred, squared=False)\n",
    "r2 = r2_score(y_test, y_pred)\n",
    "print(MAE)\n",
    "print(RMSE)\n",
    "print(r2)"
   ]
  },
  {
   "cell_type": "markdown",
   "id": "a632c21b",
   "metadata": {
    "id": "sNcekwbiAQQj"
   },
   "source": [
    "# Régression linéaire multiple"
   ]
  },
  {
   "cell_type": "markdown",
   "id": "2425567b",
   "metadata": {
    "id": "VRxh2nT-DZT5"
   },
   "source": [
    "### **1. Importer les bibliothèques nécessaires pour le modèle.**"
   ]
  },
  {
   "cell_type": "code",
   "execution_count": 65,
   "id": "fae187f8",
   "metadata": {
    "id": "kLLegdzf_hob"
   },
   "outputs": [],
   "source": [
    "import numpy as np\n",
    "import pandas as pd\n",
    "import seaborn as sns\n",
    "import matplotlib.pyplot as plt\n",
    "from sklearn.linear_model import LinearRegression\n",
    "from sklearn.metrics import mean_absolute_error, mean_squared_error, r2_score\n",
    "from sklearn.model_selection import train_test_split\n"
   ]
  },
  {
   "cell_type": "markdown",
   "id": "cf9074d8",
   "metadata": {
    "id": "QSnwYuy9Cpf5"
   },
   "source": [
    "### **2. Construire la dataframe.**"
   ]
  },
  {
   "cell_type": "code",
   "execution_count": 66,
   "id": "d248e7f0",
   "metadata": {
    "id": "W-LOrwhoCrmw"
   },
   "outputs": [],
   "source": [
    "boston=pd.read_csv('boston.xls')"
   ]
  },
  {
   "cell_type": "markdown",
   "id": "c69a605d",
   "metadata": {
    "id": "ZFVk1ANSC3UY"
   },
   "source": [
    "### **3. Examiner la data.**"
   ]
  },
  {
   "cell_type": "code",
   "execution_count": 67,
   "id": "da03d9ef",
   "metadata": {
    "colab": {
     "base_uri": "https://localhost:8080/"
    },
    "id": "H1ME19_ZC5x5",
    "outputId": "44ea309c-4d92-4385-d92d-d4fd53b89044"
   },
   "outputs": [
    {
     "data": {
      "text/plain": [
       "(506, 13)"
      ]
     },
     "execution_count": 67,
     "metadata": {},
     "output_type": "execute_result"
    }
   ],
   "source": [
    "#Number of rows and columns\n",
    "boston.shape"
   ]
  },
  {
   "cell_type": "code",
   "execution_count": 68,
   "id": "c2ad63a7",
   "metadata": {
    "colab": {
     "base_uri": "https://localhost:8080/",
     "height": 206
    },
    "id": "z-IsclFDDo07",
    "outputId": "758692a6-212d-49a7-a090-550ae3491499"
   },
   "outputs": [
    {
     "data": {
      "text/html": [
       "<div>\n",
       "<style scoped>\n",
       "    .dataframe tbody tr th:only-of-type {\n",
       "        vertical-align: middle;\n",
       "    }\n",
       "\n",
       "    .dataframe tbody tr th {\n",
       "        vertical-align: top;\n",
       "    }\n",
       "\n",
       "    .dataframe thead th {\n",
       "        text-align: right;\n",
       "    }\n",
       "</style>\n",
       "<table border=\"1\" class=\"dataframe\">\n",
       "  <thead>\n",
       "    <tr style=\"text-align: right;\">\n",
       "      <th></th>\n",
       "      <th>CRIM</th>\n",
       "      <th>ZN</th>\n",
       "      <th>INDUS</th>\n",
       "      <th>CHAS</th>\n",
       "      <th>NOX</th>\n",
       "      <th>RM</th>\n",
       "      <th>AGE</th>\n",
       "      <th>DIS</th>\n",
       "      <th>RAD</th>\n",
       "      <th>TAX</th>\n",
       "      <th>PTRATIO</th>\n",
       "      <th>LSTAT</th>\n",
       "      <th>MEDV</th>\n",
       "    </tr>\n",
       "  </thead>\n",
       "  <tbody>\n",
       "    <tr>\n",
       "      <th>0</th>\n",
       "      <td>0.00632</td>\n",
       "      <td>18.0</td>\n",
       "      <td>2.31</td>\n",
       "      <td>0</td>\n",
       "      <td>0.538</td>\n",
       "      <td>6.575</td>\n",
       "      <td>65.2</td>\n",
       "      <td>4.0900</td>\n",
       "      <td>1</td>\n",
       "      <td>296</td>\n",
       "      <td>15.3</td>\n",
       "      <td>4.98</td>\n",
       "      <td>24.0</td>\n",
       "    </tr>\n",
       "    <tr>\n",
       "      <th>1</th>\n",
       "      <td>0.02731</td>\n",
       "      <td>0.0</td>\n",
       "      <td>7.07</td>\n",
       "      <td>0</td>\n",
       "      <td>0.469</td>\n",
       "      <td>6.421</td>\n",
       "      <td>78.9</td>\n",
       "      <td>4.9671</td>\n",
       "      <td>2</td>\n",
       "      <td>242</td>\n",
       "      <td>17.8</td>\n",
       "      <td>9.14</td>\n",
       "      <td>21.6</td>\n",
       "    </tr>\n",
       "    <tr>\n",
       "      <th>2</th>\n",
       "      <td>0.02729</td>\n",
       "      <td>0.0</td>\n",
       "      <td>7.07</td>\n",
       "      <td>0</td>\n",
       "      <td>0.469</td>\n",
       "      <td>7.185</td>\n",
       "      <td>61.1</td>\n",
       "      <td>4.9671</td>\n",
       "      <td>2</td>\n",
       "      <td>242</td>\n",
       "      <td>17.8</td>\n",
       "      <td>4.03</td>\n",
       "      <td>34.7</td>\n",
       "    </tr>\n",
       "    <tr>\n",
       "      <th>3</th>\n",
       "      <td>0.03237</td>\n",
       "      <td>0.0</td>\n",
       "      <td>2.18</td>\n",
       "      <td>0</td>\n",
       "      <td>0.458</td>\n",
       "      <td>6.998</td>\n",
       "      <td>45.8</td>\n",
       "      <td>6.0622</td>\n",
       "      <td>3</td>\n",
       "      <td>222</td>\n",
       "      <td>18.7</td>\n",
       "      <td>2.94</td>\n",
       "      <td>33.4</td>\n",
       "    </tr>\n",
       "    <tr>\n",
       "      <th>4</th>\n",
       "      <td>0.06905</td>\n",
       "      <td>0.0</td>\n",
       "      <td>2.18</td>\n",
       "      <td>0</td>\n",
       "      <td>0.458</td>\n",
       "      <td>7.147</td>\n",
       "      <td>54.2</td>\n",
       "      <td>6.0622</td>\n",
       "      <td>3</td>\n",
       "      <td>222</td>\n",
       "      <td>18.7</td>\n",
       "      <td>5.33</td>\n",
       "      <td>36.2</td>\n",
       "    </tr>\n",
       "  </tbody>\n",
       "</table>\n",
       "</div>"
      ],
      "text/plain": [
       "      CRIM   ZN   INDUS   CHAS    NOX     RM   AGE     DIS  RAD  TAX  PTRATIO  \\\n",
       "0  0.00632  18.0    2.31     0  0.538  6.575  65.2  4.0900    1  296     15.3   \n",
       "1  0.02731   0.0    7.07     0  0.469  6.421  78.9  4.9671    2  242     17.8   \n",
       "2  0.02729   0.0    7.07     0  0.469  7.185  61.1  4.9671    2  242     17.8   \n",
       "3  0.03237   0.0    2.18     0  0.458  6.998  45.8  6.0622    3  222     18.7   \n",
       "4  0.06905   0.0    2.18     0  0.458  7.147  54.2  6.0622    3  222     18.7   \n",
       "\n",
       "   LSTAT  MEDV  \n",
       "0   4.98  24.0  \n",
       "1   9.14  21.6  \n",
       "2   4.03  34.7  \n",
       "3   2.94  33.4  \n",
       "4   5.33  36.2  "
      ]
     },
     "execution_count": 68,
     "metadata": {},
     "output_type": "execute_result"
    }
   ],
   "source": [
    "#Show the first 5 rows of the dataset\n",
    "boston.head()"
   ]
  },
  {
   "cell_type": "code",
   "execution_count": 69,
   "id": "1673e99f",
   "metadata": {
    "colab": {
     "base_uri": "https://localhost:8080/"
    },
    "id": "izrm_cmBDxkr",
    "outputId": "e07e3488-1842-434b-87eb-1876b8bac8b2"
   },
   "outputs": [
    {
     "name": "stdout",
     "output_type": "stream",
     "text": [
      "<class 'pandas.core.frame.DataFrame'>\n",
      "RangeIndex: 506 entries, 0 to 505\n",
      "Data columns (total 13 columns):\n",
      " #   Column   Non-Null Count  Dtype  \n",
      "---  ------   --------------  -----  \n",
      " 0   CRIM     506 non-null    float64\n",
      " 1    ZN      506 non-null    float64\n",
      " 2   INDUS    506 non-null    float64\n",
      " 3   CHAS     506 non-null    int64  \n",
      " 4   NOX      506 non-null    float64\n",
      " 5   RM       506 non-null    float64\n",
      " 6   AGE      506 non-null    float64\n",
      " 7   DIS      506 non-null    float64\n",
      " 8   RAD      506 non-null    int64  \n",
      " 9   TAX      506 non-null    int64  \n",
      " 10  PTRATIO  506 non-null    float64\n",
      " 11  LSTAT    506 non-null    float64\n",
      " 12  MEDV     506 non-null    float64\n",
      "dtypes: float64(10), int64(3)\n",
      "memory usage: 51.5 KB\n"
     ]
    }
   ],
   "source": [
    "#Get information about columns\n",
    "boston.info()"
   ]
  },
  {
   "cell_type": "code",
   "execution_count": 70,
   "id": "5881e528",
   "metadata": {
    "colab": {
     "base_uri": "https://localhost:8080/",
     "height": 300
    },
    "id": "o0DVR8D4D1qu",
    "outputId": "0e070a2b-53f4-485f-831e-9eff079d07f1"
   },
   "outputs": [
    {
     "data": {
      "text/html": [
       "<div>\n",
       "<style scoped>\n",
       "    .dataframe tbody tr th:only-of-type {\n",
       "        vertical-align: middle;\n",
       "    }\n",
       "\n",
       "    .dataframe tbody tr th {\n",
       "        vertical-align: top;\n",
       "    }\n",
       "\n",
       "    .dataframe thead th {\n",
       "        text-align: right;\n",
       "    }\n",
       "</style>\n",
       "<table border=\"1\" class=\"dataframe\">\n",
       "  <thead>\n",
       "    <tr style=\"text-align: right;\">\n",
       "      <th></th>\n",
       "      <th>CRIM</th>\n",
       "      <th>ZN</th>\n",
       "      <th>INDUS</th>\n",
       "      <th>CHAS</th>\n",
       "      <th>NOX</th>\n",
       "      <th>RM</th>\n",
       "      <th>AGE</th>\n",
       "      <th>DIS</th>\n",
       "      <th>RAD</th>\n",
       "      <th>TAX</th>\n",
       "      <th>PTRATIO</th>\n",
       "      <th>LSTAT</th>\n",
       "      <th>MEDV</th>\n",
       "    </tr>\n",
       "  </thead>\n",
       "  <tbody>\n",
       "    <tr>\n",
       "      <th>count</th>\n",
       "      <td>506.000000</td>\n",
       "      <td>506.000000</td>\n",
       "      <td>506.000000</td>\n",
       "      <td>506.000000</td>\n",
       "      <td>506.000000</td>\n",
       "      <td>506.000000</td>\n",
       "      <td>506.000000</td>\n",
       "      <td>506.000000</td>\n",
       "      <td>506.000000</td>\n",
       "      <td>506.000000</td>\n",
       "      <td>506.000000</td>\n",
       "      <td>506.000000</td>\n",
       "      <td>506.000000</td>\n",
       "    </tr>\n",
       "    <tr>\n",
       "      <th>mean</th>\n",
       "      <td>3.613524</td>\n",
       "      <td>11.363636</td>\n",
       "      <td>11.136779</td>\n",
       "      <td>0.069170</td>\n",
       "      <td>0.554695</td>\n",
       "      <td>6.284634</td>\n",
       "      <td>68.574901</td>\n",
       "      <td>3.795043</td>\n",
       "      <td>9.549407</td>\n",
       "      <td>408.237154</td>\n",
       "      <td>18.455534</td>\n",
       "      <td>12.653063</td>\n",
       "      <td>22.532806</td>\n",
       "    </tr>\n",
       "    <tr>\n",
       "      <th>std</th>\n",
       "      <td>8.601545</td>\n",
       "      <td>23.322453</td>\n",
       "      <td>6.860353</td>\n",
       "      <td>0.253994</td>\n",
       "      <td>0.115878</td>\n",
       "      <td>0.702617</td>\n",
       "      <td>28.148861</td>\n",
       "      <td>2.105710</td>\n",
       "      <td>8.707259</td>\n",
       "      <td>168.537116</td>\n",
       "      <td>2.164946</td>\n",
       "      <td>7.141062</td>\n",
       "      <td>9.197104</td>\n",
       "    </tr>\n",
       "    <tr>\n",
       "      <th>min</th>\n",
       "      <td>0.006320</td>\n",
       "      <td>0.000000</td>\n",
       "      <td>0.460000</td>\n",
       "      <td>0.000000</td>\n",
       "      <td>0.385000</td>\n",
       "      <td>3.561000</td>\n",
       "      <td>2.900000</td>\n",
       "      <td>1.129600</td>\n",
       "      <td>1.000000</td>\n",
       "      <td>187.000000</td>\n",
       "      <td>12.600000</td>\n",
       "      <td>1.730000</td>\n",
       "      <td>5.000000</td>\n",
       "    </tr>\n",
       "    <tr>\n",
       "      <th>25%</th>\n",
       "      <td>0.082045</td>\n",
       "      <td>0.000000</td>\n",
       "      <td>5.190000</td>\n",
       "      <td>0.000000</td>\n",
       "      <td>0.449000</td>\n",
       "      <td>5.885500</td>\n",
       "      <td>45.025000</td>\n",
       "      <td>2.100175</td>\n",
       "      <td>4.000000</td>\n",
       "      <td>279.000000</td>\n",
       "      <td>17.400000</td>\n",
       "      <td>6.950000</td>\n",
       "      <td>17.025000</td>\n",
       "    </tr>\n",
       "    <tr>\n",
       "      <th>50%</th>\n",
       "      <td>0.256510</td>\n",
       "      <td>0.000000</td>\n",
       "      <td>9.690000</td>\n",
       "      <td>0.000000</td>\n",
       "      <td>0.538000</td>\n",
       "      <td>6.208500</td>\n",
       "      <td>77.500000</td>\n",
       "      <td>3.207450</td>\n",
       "      <td>5.000000</td>\n",
       "      <td>330.000000</td>\n",
       "      <td>19.050000</td>\n",
       "      <td>11.360000</td>\n",
       "      <td>21.200000</td>\n",
       "    </tr>\n",
       "    <tr>\n",
       "      <th>75%</th>\n",
       "      <td>3.677083</td>\n",
       "      <td>12.500000</td>\n",
       "      <td>18.100000</td>\n",
       "      <td>0.000000</td>\n",
       "      <td>0.624000</td>\n",
       "      <td>6.623500</td>\n",
       "      <td>94.075000</td>\n",
       "      <td>5.188425</td>\n",
       "      <td>24.000000</td>\n",
       "      <td>666.000000</td>\n",
       "      <td>20.200000</td>\n",
       "      <td>16.955000</td>\n",
       "      <td>25.000000</td>\n",
       "    </tr>\n",
       "    <tr>\n",
       "      <th>max</th>\n",
       "      <td>88.976200</td>\n",
       "      <td>100.000000</td>\n",
       "      <td>27.740000</td>\n",
       "      <td>1.000000</td>\n",
       "      <td>0.871000</td>\n",
       "      <td>8.780000</td>\n",
       "      <td>100.000000</td>\n",
       "      <td>12.126500</td>\n",
       "      <td>24.000000</td>\n",
       "      <td>711.000000</td>\n",
       "      <td>22.000000</td>\n",
       "      <td>37.970000</td>\n",
       "      <td>50.000000</td>\n",
       "    </tr>\n",
       "  </tbody>\n",
       "</table>\n",
       "</div>"
      ],
      "text/plain": [
       "             CRIM         ZN       INDUS         CHAS         NOX          RM  \\\n",
       "count  506.000000  506.000000  506.000000  506.000000  506.000000  506.000000   \n",
       "mean     3.613524   11.363636   11.136779    0.069170    0.554695    6.284634   \n",
       "std      8.601545   23.322453    6.860353    0.253994    0.115878    0.702617   \n",
       "min      0.006320    0.000000    0.460000    0.000000    0.385000    3.561000   \n",
       "25%      0.082045    0.000000    5.190000    0.000000    0.449000    5.885500   \n",
       "50%      0.256510    0.000000    9.690000    0.000000    0.538000    6.208500   \n",
       "75%      3.677083   12.500000   18.100000    0.000000    0.624000    6.623500   \n",
       "max     88.976200  100.000000   27.740000    1.000000    0.871000    8.780000   \n",
       "\n",
       "              AGE         DIS         RAD         TAX     PTRATIO       LSTAT  \\\n",
       "count  506.000000  506.000000  506.000000  506.000000  506.000000  506.000000   \n",
       "mean    68.574901    3.795043    9.549407  408.237154   18.455534   12.653063   \n",
       "std     28.148861    2.105710    8.707259  168.537116    2.164946    7.141062   \n",
       "min      2.900000    1.129600    1.000000  187.000000   12.600000    1.730000   \n",
       "25%     45.025000    2.100175    4.000000  279.000000   17.400000    6.950000   \n",
       "50%     77.500000    3.207450    5.000000  330.000000   19.050000   11.360000   \n",
       "75%     94.075000    5.188425   24.000000  666.000000   20.200000   16.955000   \n",
       "max    100.000000   12.126500   24.000000  711.000000   22.000000   37.970000   \n",
       "\n",
       "             MEDV  \n",
       "count  506.000000  \n",
       "mean    22.532806  \n",
       "std      9.197104  \n",
       "min      5.000000  \n",
       "25%     17.025000  \n",
       "50%     21.200000  \n",
       "75%     25.000000  \n",
       "max     50.000000  "
      ]
     },
     "execution_count": 70,
     "metadata": {},
     "output_type": "execute_result"
    }
   ],
   "source": [
    "# Generate descriptive statistics.\n",
    "boston.describe()"
   ]
  },
  {
   "cell_type": "code",
   "execution_count": 71,
   "id": "154164aa",
   "metadata": {
    "colab": {
     "base_uri": "https://localhost:8080/"
    },
    "id": "DGjAFdscD96S",
    "outputId": "e44051a4-3074-4c59-dc28-7fe480271e0e"
   },
   "outputs": [
    {
     "data": {
      "text/plain": [
       "0"
      ]
     },
     "execution_count": 71,
     "metadata": {},
     "output_type": "execute_result"
    }
   ],
   "source": [
    "#check for duplicate rows\n",
    "boston.duplicated().sum()"
   ]
  },
  {
   "cell_type": "code",
   "execution_count": 72,
   "id": "186b9aea",
   "metadata": {
    "colab": {
     "base_uri": "https://localhost:8080/",
     "height": 492
    },
    "id": "41EBYDD2EBoz",
    "outputId": "e9e6f97a-b37f-465a-a988-9c9885dcc904"
   },
   "outputs": [
    {
     "data": {
      "text/plain": [
       "CRIM       0\n",
       " ZN        0\n",
       "INDUS      0\n",
       "CHAS       0\n",
       "NOX        0\n",
       "RM         0\n",
       "AGE        0\n",
       "DIS        0\n",
       "RAD        0\n",
       "TAX        0\n",
       "PTRATIO    0\n",
       "LSTAT      0\n",
       "MEDV       0\n",
       "dtype: int64"
      ]
     },
     "execution_count": 72,
     "metadata": {},
     "output_type": "execute_result"
    }
   ],
   "source": [
    "#Check for missing values\n",
    "boston.isnull().sum()"
   ]
  },
  {
   "cell_type": "markdown",
   "id": "87070f20",
   "metadata": {
    "id": "VvG6oxC5EIBx"
   },
   "source": [
    "### **4. Diviser la base de données en deux tableaux $Xm$ (tableau d'observations) et $ym$ (la variable cible)**"
   ]
  },
  {
   "cell_type": "code",
   "execution_count": 73,
   "id": "8879269f",
   "metadata": {
    "id": "M2GwjdQdESrP"
   },
   "outputs": [],
   "source": [
    "Xm = boston.iloc[:,0:12]\n",
    "ym = boston['MEDV']"
   ]
  },
  {
   "cell_type": "code",
   "execution_count": 74,
   "id": "4076552a",
   "metadata": {
    "id": "IZ7w69-8Gbb3"
   },
   "outputs": [],
   "source": [
    "#Diviser les données: 80% pour l'entrainement et 20% pour le test:\n",
    "Xm_train, Xm_test, ym_train, ym_test = train_test_split(Xm, ym, test_size=0.2, random_state=3)"
   ]
  },
  {
   "cell_type": "markdown",
   "id": "82dab6b1",
   "metadata": {
    "id": "9zzyFLGXIPFz"
   },
   "source": [
    "### **5. Entrainer le modèle.**"
   ]
  },
  {
   "cell_type": "markdown",
   "id": "533d8849",
   "metadata": {
    "id": "uWsR6Hc_OiOa"
   },
   "source": [
    "*The following code standardizes the training and test datasets so that they have a mean of 0 and a standard deviation of 1, which is a common preprocessing step for many machine learning algorithms (Standardization (Standard Scaler)):*"
   ]
  },
  {
   "cell_type": "code",
   "execution_count": 75,
   "id": "919ae412",
   "metadata": {
    "id": "JOoNDXT1IbFo"
   },
   "outputs": [],
   "source": [
    "from sklearn.preprocessing import StandardScaler\n",
    "\n",
    "# Initialize StandardScaler\n",
    "scaler = StandardScaler()\n",
    "\n",
    "# Fit and transform Xm_train\n",
    "Xm_train_sc = scaler.fit_transform(Xm_train)\n",
    "\n",
    "# Transform Xm_test\n",
    "Xm_test_sc = scaler.transform(Xm_test)"
   ]
  },
  {
   "cell_type": "markdown",
   "id": "d196ff26",
   "metadata": {
    "id": "rIPyM_k0QKbH"
   },
   "source": [
    "*Entraîner le modèle et prédire les labels de Xm_test*"
   ]
  },
  {
   "cell_type": "code",
   "execution_count": 76,
   "id": "d72d4e52",
   "metadata": {
    "id": "S_jcazdMInCs"
   },
   "outputs": [],
   "source": [
    "lr = LinearRegression()\n",
    "lr.fit(Xm_train_sc, ym_train)\n",
    "ym_pred = lr.predict(Xm_test_sc)"
   ]
  },
  {
   "cell_type": "markdown",
   "id": "3fd68396",
   "metadata": {
    "id": "7qZFZFauVOQh"
   },
   "source": [
    "*Parameters & Predictions*"
   ]
  },
  {
   "cell_type": "code",
   "execution_count": 77,
   "id": "179a8162",
   "metadata": {
    "colab": {
     "base_uri": "https://localhost:8080/"
    },
    "id": "-avETp5fIrJj",
    "outputId": "21e42479-7e3c-4578-9b07-95fc008221c8"
   },
   "outputs": [
    {
     "name": "stdout",
     "output_type": "stream",
     "text": [
      "Intercept =  22.44876237623762\n",
      "Coefficients :  [-1.23841172  1.10163258 -0.39011931  0.89485475 -1.90219224  2.33976633\n",
      " -0.16405381 -3.14828542  2.43879511 -1.88207638 -1.91432074 -3.71625159]\n",
      "Predictions:  [37.31898248 18.46482093 21.23294456 32.61729704 24.44406625 23.46532838\n",
      " 17.92040103  8.52548064 21.01604097 17.86042945 13.83065586 31.96672955\n",
      " 35.9563909  30.94553207  6.63958192 10.89614257 23.2937994  14.68299896\n",
      " 13.8934246  29.80661985 26.99762483 35.14258203 27.1375803  24.18379709\n",
      " 12.50379236 24.82592521 20.7086089  19.48938848 19.45484836 24.63066726\n",
      " 15.62854042 34.3766497  20.80190155 22.75412241 19.36511143 16.81360615\n",
      " 21.47978928 32.04823499 15.61619799 21.8107453  17.89203644  9.49147262\n",
      " 25.15627282 17.48053125 22.85826359 25.42938243 26.78254544 17.99420865\n",
      " 27.91719928 20.39819194 22.6290578  19.22861921 37.99067433 18.39080947\n",
      " 22.41059121 13.12895939 35.39586919 15.70295774 31.97163123 19.09817451\n",
      " 23.7571845  21.51368816 32.75918957 33.1912116  23.29383397 26.06674119\n",
      " 34.45067568 23.89410208 28.45031174 30.37342864 24.79008975 27.05530138\n",
      " 23.08672089 30.99603508 14.30905813 23.00471342 26.15252045 24.78273645\n",
      " 22.41905984 19.21884273 26.87717147 18.77069643  7.968301   19.60269513\n",
      " 26.105148   12.83545523 27.39724319 13.6826154  21.5568996  25.22969536\n",
      " 18.63110963 20.50572168 21.98712855 38.55800851 30.871873   16.07396063\n",
      " 42.70179052 17.64350714 23.84249159 35.19006469 21.44427288 24.00708214]\n"
     ]
    }
   ],
   "source": [
    "print('Intercept = ', lr.intercept_)\n",
    "\n",
    "print('Coefficients : ', lr.coef_)\n",
    "\n",
    "print(\"Predictions: \", ym_pred)"
   ]
  },
  {
   "cell_type": "markdown",
   "id": "344a1fc3",
   "metadata": {
    "id": "uoa6aan_ZjE3"
   },
   "source": [
    "### **6. Evaluer le modèle.**"
   ]
  },
  {
   "cell_type": "code",
   "execution_count": 79,
   "id": "5bd23a94",
   "metadata": {
    "colab": {
     "base_uri": "https://localhost:8080/"
    },
    "id": "qEsv-STPZkkg",
    "outputId": "e1827e3c-5942-4b2f-f622-6c8036336fa5"
   },
   "outputs": [
    {
     "name": "stdout",
     "output_type": "stream",
     "text": [
      "Root Mean Squared Error (RMSE):  4.129190261112695\n",
      "Mean Absolute Error (MAE):  3.0141402036070413\n",
      "R-squared (R²):  0.7939670979504735\n"
     ]
    }
   ],
   "source": [
    "# Evaluer les performance de votre modèle en utilisant les indicateurs de performance adequats\n",
    "\n",
    "# Calculer la racine de l'erreur quadratique moyenne (RMSE)\n",
    "rmse = mean_squared_error(ym_test, ym_pred, squared=False)\n",
    "print(\"Root Mean Squared Error (RMSE): \", rmse)\n",
    "\n",
    "# Calculer l'erreur absolue moyenne (MAE)\n",
    "mae = mean_absolute_error(ym_test, ym_pred)\n",
    "print(\"Mean Absolute Error (MAE): \", mae)\n",
    "\n",
    "# Calculer le coefficient de détermination (R²)\n",
    "r2 = r2_score(ym_test, ym_pred)\n",
    "print(\"R-squared (R²): \", r2)"
   ]
  }
 ],
 "metadata": {
  "kernelspec": {
   "display_name": "Python 3 (ipykernel)",
   "language": "python",
   "name": "python3"
  },
  "language_info": {
   "codemirror_mode": {
    "name": "ipython",
    "version": 3
   },
   "file_extension": ".py",
   "mimetype": "text/x-python",
   "name": "python",
   "nbconvert_exporter": "python",
   "pygments_lexer": "ipython3",
   "version": "3.10.9"
  }
 },
 "nbformat": 4,
 "nbformat_minor": 5
}
