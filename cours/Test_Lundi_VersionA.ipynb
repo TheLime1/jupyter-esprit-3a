{
 "cells": [
  {
   "cell_type": "markdown",
   "metadata": {},
   "source": [
    "## <center>Test Pratique  Version A </center>"
   ]
  },
  {
   "cell_type": "markdown",
   "metadata": {},
   "source": [
    "###  <span style=\"color:red\">Consignes pour l'examen </span>\n"
   ]
  },
  {
   "cell_type": "markdown",
   "metadata": {},
   "source": [
    "\n",
    "1- Veuillez enregistrer le code source selon le format suivant : \"nom_prénom_classe\"\n",
    "\n",
    "2- Seuls les documents fournis par votre enseignant sont autorisés.\n",
    "\n",
    "3- Internet n'est pas autorisée. Veuillez activer le mode avion et désactiver le Wifi.\n",
    "\n",
    "4- Toute utilisation d'Internet (sur PC ou smartphone) sera considérée comme une tentative de fraude.\n",
    "\n",
    "5- Lorsqu'un étudiant quitte la salle de classe, il n'est plus autorisé à récupérer le code source du travail effectué.\n",
    "\n",
    "6- Veuillez vous assurer de vérifier soigneusement votre code avant la récupération. Chaque étudiant est responsable du code qu'il soumet, et aucune réclamation ne sera acceptée une fois que vous aurez quitté la salle."
   ]
  },
  {
   "cell_type": "markdown",
   "metadata": {},
   "source": [
    "# <span style=\"color:blue\">Le jeu de données: banque.csv </span>"
   ]
  },
  {
   "cell_type": "markdown",
   "metadata": {},
   "source": [
    "Dans ce Notebook, nous allons développer un modèle KNN sur le jeu de données 'bank_marketing.csv'.  \n",
    "\n",
    "- Ce jeu de données permet d'évaluer l'efficacité des campagnes marketing passées et de tirer des enseignements pour optimiser les stratégies futures.  \n",
    "\n",
    "- La classification vise à déterminer si un client a souscrit à un dépôt après avoir été contacté lors d'une campagne de marketing. \n",
    "\n",
    "- En d'autres termes, la colonne target (y = \"yes\") indique que le client a souscrit à un produit financier proposé dans le cadre de la campagne, tandis que \"no\" indique que le client n'a pas souscrit.\n",
    "\n",
    "\n",
    "### 1. Informations sur le jeu de données \"banque.csv\"\n",
    "\n",
    "Le jeu de données comprend diverses caractéristiques qui fournissent des informations sur les attributs des clients et les résultats des campagnes.\n",
    "\n",
    "Le jeu de données comprend :un ensemble des observations étiquetés avec la variable de classe  <span style=\"color:blue\"> y </span>, permettant de classer les données selon les catégories suivantes, (y = \"yes\") indique que le client a souscrit à un produit financier proposé dans le cadre de la campagne, tandis que \"no\" indique que le client n'a pas souscrit."
   ]
  },
  {
   "cell_type": "markdown",
   "metadata": {},
   "source": [
    "\n",
    "### 2. Détails sur quelques les caractéristiques\n",
    "\n",
    "- **age** : L'âge du client. \n",
    "- **job** : La profession d'emploi du client.   \n",
    "- **marital** : Le statut marital du client.  \n",
    "- **education** : Le niveau d'éducation atteint par le client.  \n",
    "- **default** : Indique si le client a un crédit en défaut ou non.   \n",
    "- **balance** : Le solde du compte du client.   \n",
    "- **housing** : Indique si le client a un prêt immobilier ou non. \n",
    "- **contact** : Type de communication utilisée pour contacter les clients (téléphone, cellulaire, etc.).   \n",
    "- **day** : Jour du mois où le dernier contact a eu lieu avec les clients.   \n",
    "- **duration** : Durée (en secondes) du dernier contact avec les clients lors de la campagne précédente. \n",
    "- **pdays** : Nombre de jours écoulés après le dernier contact de la campagne précédente. \n",
    "- **poutcome** : Résultat de la campagne marketing précédente. "
   ]
  },
  {
   "cell_type": "markdown",
   "metadata": {},
   "source": [
    "# <span style=\"color:blue\">Objectifs </span>"
   ]
  },
  {
   "cell_type": "markdown",
   "metadata": {},
   "source": [
    "- Utiliser le modèle KNN de machine learning pour  déterminer si un client s'abonnerait ou non à un produit financier proposé dans le cadre de la campagne"
   ]
  },
  {
   "cell_type": "markdown",
   "metadata": {},
   "source": [
    "##  1: Importer les bibliothèques requises <span style=\"color:green\"> </span>"
   ]
  },
  {
   "cell_type": "code",
   "execution_count": 1,
   "metadata": {},
   "outputs": [],
   "source": [
    "import pandas as pd \n",
    "import numpy as np \n",
    "import matplotlib.pyplot as plt \n",
    "import seaborn as sns \n",
    "from sklearn.preprocessing import LabelEncoder \n",
    "from sklearn.preprocessing import OneHotEncoder \n",
    "from sklearn.preprocessing import StandardScaler\n",
    "from sklearn.neighbors import KNeighborsClassifier \n",
    "from sklearn.model_selection import train_test_split\n",
    "from sklearn.metrics import accuracy_score, precision_score, recall_score ,f1_score, confusion_matrix, classification_report\n",
    "from sklearn.model_selection import GridSearchCV                                                            \n",
    "import numpy as np "
   ]
  },
  {
   "cell_type": "markdown",
   "metadata": {},
   "source": [
    "## 2: Importer le jeu de données: 'banque.csv' et l'enregistrer dans dataset<span style=\"color:green\">(0.5pt) </span>"
   ]
  },
  {
   "cell_type": "code",
   "execution_count": null,
   "metadata": {},
   "outputs": [],
   "source": [
    "        "
   ]
  },
  {
   "cell_type": "markdown",
   "metadata": {},
   "source": [
    "## 3: Afficher la taille de la base de données <span style=\"color:green\">(0.5 pt) </span>"
   ]
  },
  {
   "cell_type": "code",
   "execution_count": null,
   "metadata": {},
   "outputs": [],
   "source": []
  },
  {
   "cell_type": "markdown",
   "metadata": {},
   "source": [
    "## 4: Afficher les 8 premières lignes de la base de données <span style=\"color:green\">(0.5 pt) </span>"
   ]
  },
  {
   "cell_type": "code",
   "execution_count": null,
   "metadata": {},
   "outputs": [],
   "source": [
    "                           "
   ]
  },
  {
   "cell_type": "markdown",
   "metadata": {},
   "source": [
    "## 5: Afficher les informations des attributs de la base  <span style=\"color:green\">(0.5 pt) </span>"
   ]
  },
  {
   "cell_type": "code",
   "execution_count": null,
   "metadata": {},
   "outputs": [],
   "source": [
    "                       "
   ]
  },
  {
   "cell_type": "markdown",
   "metadata": {},
   "source": [
    "## 6: Afficher le nombre total de valeurs manquantes par caractéristique dans la base de données. <span style=\"color:green\">(0.5 pt) </span>"
   ]
  },
  {
   "cell_type": "code",
   "execution_count": null,
   "metadata": {},
   "outputs": [],
   "source": []
  },
  {
   "cell_type": "markdown",
   "metadata": {},
   "source": [
    "## 7: Supprimer les colonnes month,duration,  campaign et loan. <span style=\"color:green\">(0.5 pt) </span>"
   ]
  },
  {
   "cell_type": "code",
   "execution_count": null,
   "metadata": {},
   "outputs": [],
   "source": []
  },
  {
   "cell_type": "code",
   "execution_count": 2,
   "metadata": {},
   "outputs": [],
   "source": [
    "#dataset.shape"
   ]
  },
  {
   "cell_type": "markdown",
   "metadata": {},
   "source": [
    "## 8. Remplacer les valeurs manquantes de la colonne **Age** par la valeur mediane.  <span style=\"color:green\">(0.5 pt) </span>"
   ]
  },
  {
   "cell_type": "code",
   "execution_count": null,
   "metadata": {},
   "outputs": [],
   "source": []
  },
  {
   "cell_type": "code",
   "execution_count": 3,
   "metadata": {},
   "outputs": [],
   "source": []
  },
  {
   "cell_type": "markdown",
   "metadata": {},
   "source": [
    "## 9. Supprimer toutes les lignes contenant des valeurs manquantes. <span style=\"color:green\"> 0.5 pt) </span>"
   ]
  },
  {
   "cell_type": "code",
   "execution_count": 158,
   "metadata": {},
   "outputs": [],
   "source": []
  },
  {
   "cell_type": "code",
   "execution_count": null,
   "metadata": {},
   "outputs": [],
   "source": []
  },
  {
   "cell_type": "markdown",
   "metadata": {},
   "source": [
    "## 10. Exécutez le code suivant et expliquez ce qu'il réalise.<span style=\"color:green\">(1pt) </span>"
   ]
  },
  {
   "cell_type": "code",
   "execution_count": 161,
   "metadata": {},
   "outputs": [],
   "source": [
    "le=LabelEncoder()\n",
    "dataset['job']=le.fit_transform(dataset['job'])\n",
    "dataset['marital']=le.fit_transform(dataset['marital'])\n",
    "dataset['education']=le.fit_transform(dataset['education'])\n",
    "dataset['default']=le.fit_transform(dataset['default'])\n",
    "dataset['housing']=le.fit_transform(dataset['housing'])\n",
    "dataset['contact']=le.fit_transform(dataset['contact'])\n",
    "dataset['poutcome']=le.fit_transform(dataset['poutcome'])\n",
    "dataset['y']=le.fit_transform(dataset['y'])\n"
   ]
  },
  {
   "cell_type": "code",
   "execution_count": 15,
   "metadata": {},
   "outputs": [],
   "source": [
    "#Explication "
   ]
  },
  {
   "cell_type": "code",
   "execution_count": null,
   "metadata": {},
   "outputs": [],
   "source": []
  },
  {
   "cell_type": "markdown",
   "metadata": {},
   "source": [
    "## 11. Afficher les valeurs possibles de la colonne y <span style=\"color:green\">(0.5 pt) </span>"
   ]
  },
  {
   "cell_type": "code",
   "execution_count": null,
   "metadata": {},
   "outputs": [],
   "source": []
  },
  {
   "cell_type": "markdown",
   "metadata": {},
   "source": [
    "## 12. Afficher les statistiques descriptives des caractéristiques. <span style=\"color:green\">(0.5 pt) </span>"
   ]
  },
  {
   "cell_type": "code",
   "execution_count": null,
   "metadata": {},
   "outputs": [],
   "source": [
    "\n"
   ]
  },
  {
   "cell_type": "markdown",
   "metadata": {},
   "source": [
    "## 13. Quelles sont les valeurs du premier quartile (Q1) et du troisième quartile (Q3) pour la caractéristique 'balance' ? <span style=\"color:green\">(2 pt) </span>"
   ]
  },
  {
   "cell_type": "code",
   "execution_count": 19,
   "metadata": {},
   "outputs": [],
   "source": [
    "#réponse : "
   ]
  },
  {
   "cell_type": "markdown",
   "metadata": {},
   "source": [
    "## 14: Création, Entrainement et Evaluation d'un KNN  \n"
   ]
  },
  {
   "cell_type": "markdown",
   "metadata": {},
   "source": [
    "### 14.1: Répartir la base en deux tableaux : <span style=\"color:green\">(1,5 pt) </span>\n",
    "  - **X** : Contient toutes les données à l'exception de la colonne dont le nom est **y**.  \n",
    "  - **y** : Contient la colonne dont le nom est **y**, utilisée comme target.  \n",
    "\n",
    "\n",
    "Affichez les dimensions des deux tableaux pour vérifier leur structure."
   ]
  },
  {
   "cell_type": "code",
   "execution_count": null,
   "metadata": {},
   "outputs": [],
   "source": []
  },
  {
   "cell_type": "markdown",
   "metadata": {},
   "source": [
    "### 14.2: Répartir la base en deux ensembles : ensemble d'apprentissage et ensemble de test en fixant l'aléatoire à 0 et afficher la forme des 4 sous ensemble ( x_train, x_test, y_train et y_test ) <span style=\"color:green\">(1,5 pt) </span>"
   ]
  },
  {
   "cell_type": "code",
   "execution_count": null,
   "metadata": {},
   "outputs": [],
   "source": []
  },
  {
   "cell_type": "markdown",
   "metadata": {},
   "source": [
    "### 14.3: Créer un modèle KNN avec un nombre de voisins = 5  <span style=\"color:green\">(0,5 pt) </span>"
   ]
  },
  {
   "cell_type": "code",
   "execution_count": 4,
   "metadata": {},
   "outputs": [],
   "source": []
  },
  {
   "cell_type": "markdown",
   "metadata": {},
   "source": [
    "### 14.4: Entrainer et valider le modèle <span style=\"color:green\">(1 pt) </span>"
   ]
  },
  {
   "cell_type": "code",
   "execution_count": null,
   "metadata": {},
   "outputs": [],
   "source": []
  },
  {
   "cell_type": "markdown",
   "metadata": {},
   "source": [
    "### 15. Évaluation du modèle"
   ]
  },
  {
   "cell_type": "markdown",
   "metadata": {},
   "source": [
    "### 15.1 calculer y_pred <span style=\"color:green\">(1 pt) </span>"
   ]
  },
  {
   "cell_type": "code",
   "execution_count": null,
   "metadata": {},
   "outputs": [],
   "source": []
  },
  {
   "cell_type": "markdown",
   "metadata": {},
   "source": [
    "### 15.2 Afficher le score d'apprentissage et le score du test <span style=\"color:green\">(1 pt) </span>"
   ]
  },
  {
   "cell_type": "code",
   "execution_count": null,
   "metadata": {},
   "outputs": [],
   "source": []
  },
  {
   "cell_type": "markdown",
   "metadata": {},
   "source": [
    "### 15.3 Terminer ce code pour afficher la matrice de confusion   <span style=\"color:green\">(1 pt) </span>"
   ]
  },
  {
   "cell_type": "code",
   "execution_count": null,
   "metadata": {},
   "outputs": [],
   "source": [
    "conf_matrix = ...................\n",
    "\n",
    "# Visualiser la matrice de confusion avec un heatmap\n",
    "plt.figure(figsize=(7, 5), dpi=100)\n",
    "sns.heatmap(conf_matrix, annot=True, fmt=\"d\",\n",
    "            xticklabels=.........,\n",
    "            yticklabels=........)\n",
    "plt.ylabel('Véritables')\n",
    "plt.xlabel('Prédictions')\n",
    "plt.title('Matrice de Confusion Banque')\n",
    "plt.show()"
   ]
  },
  {
   "cell_type": "markdown",
   "metadata": {},
   "source": [
    "### 15.4 Discuter la matrice de confusion  <span style=\"color:green\">(2 pt) </span>"
   ]
  },
  {
   "cell_type": "code",
   "execution_count": null,
   "metadata": {},
   "outputs": [],
   "source": [
    "#Discussion"
   ]
  },
  {
   "cell_type": "markdown",
   "metadata": {},
   "source": [
    "## 16: Réglage des hyperparamètres  "
   ]
  },
  {
   "cell_type": "markdown",
   "metadata": {},
   "source": [
    "### 16.1: Appliquer la fonction GridSearchCV sur le KNN pour les hyperparamètres : n_neighbors et distances <span style=\"color:green\">(2 pt) </span>\n",
    "- Les valeurs de k varient de 1 à 20 et les distances sont : euclidienne et manhatan"
   ]
  },
  {
   "cell_type": "code",
   "execution_count": 5,
   "metadata": {},
   "outputs": [],
   "source": [
    "                                                                                                                                                                                                                                                # 0,5"
   ]
  },
  {
   "cell_type": "markdown",
   "metadata": {},
   "source": [
    "### 16.2: Afficher le meilleur score <span style=\"color:green\">(1 pt) </span>"
   ]
  },
  {
   "cell_type": "code",
   "execution_count": null,
   "metadata": {},
   "outputs": [],
   "source": []
  },
  {
   "cell_type": "markdown",
   "metadata": {},
   "source": [
    "## 17:La récupération <span style=\"color:red; text-decoration: underline;\"> non supervisée </span> du code (envoi du code source par e-mail sans l'intervention de l'enseignant) <span style=\"color:green\">(1 pt) </span>"
   ]
  },
  {
   "cell_type": "code",
   "execution_count": null,
   "metadata": {},
   "outputs": [],
   "source": []
  }
 ],
 "metadata": {
  "kernelspec": {
   "display_name": "Python 3 (ipykernel)",
   "language": "python",
   "name": "python3"
  },
  "language_info": {
   "codemirror_mode": {
    "name": "ipython",
    "version": 3
   },
   "file_extension": ".py",
   "mimetype": "text/x-python",
   "name": "python",
   "nbconvert_exporter": "python",
   "pygments_lexer": "ipython3",
   "version": "3.10.9"
  }
 },
 "nbformat": 4,
 "nbformat_minor": 4
}
